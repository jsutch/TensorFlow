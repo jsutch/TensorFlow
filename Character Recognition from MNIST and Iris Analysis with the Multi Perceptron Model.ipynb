{
 "cells": [
  {
   "cell_type": "code",
   "execution_count": 12,
   "metadata": {},
   "outputs": [],
   "source": [
    "import tensorflow as tf\n",
    "import numpy as np\n",
    "import matplotlib.pyplot as plt\n",
    "%matplotlib inline\n",
    "plt.rcParams[\"patch.force_edgecolor\"] = True # in matplotlib, edge borders are turned off by default. \n",
    "# quell warnings\n",
    "import warnings\n",
    "warnings.filterwarnings('ignore')"
   ]
  },
  {
   "cell_type": "markdown",
   "metadata": {},
   "source": [
    "## MNIST DataSet with the Multi-Perceptron Model\n",
    "\n",
    "### Character Recognition\n",
    "\n",
    "The *MNIST* Data set is a collection of arrays representing Hand Written Digits (0-9) using pixels\n",
    "\n",
    "This set of lectures will use the *Classical* model of using TensorFlow\n",
    "\n",
    "The next will use the *Esimator* model. This is more like using Scikit-Learn where you create an input function, train a model with it then use it to make predictions.\n",
    "\n",
    "For this series of lectures we'll use the more Manual way.\n",
    "\n",
    "\n"
   ]
  },
  {
   "cell_type": "code",
   "execution_count": 3,
   "metadata": {},
   "outputs": [],
   "source": [
    "from tensorflow.examples.tutorials.mnist import input_data"
   ]
  },
  {
   "cell_type": "markdown",
   "metadata": {},
   "source": [
    "The one_hot function provides a simple interface to convert class label integers into a so-called one-hot array, where each unique label is represented as a column in the new array."
   ]
  },
  {
   "cell_type": "code",
   "execution_count": 5,
   "metadata": {},
   "outputs": [
    {
     "name": "stdout",
     "output_type": "stream",
     "text": [
      "Extracting /Users/person/Coding/Udemy/Python3_Data_Science_And_Machine_Learning/Refactored_Py_DS_ML_Bootcamp-master/22-Deep\\ Learning/MNIST_data/train-images-idx3-ubyte.gz\n",
      "Extracting /Users/person/Coding/Udemy/Python3_Data_Science_And_Machine_Learning/Refactored_Py_DS_ML_Bootcamp-master/22-Deep\\ Learning/MNIST_data/train-labels-idx1-ubyte.gz\n",
      "Extracting /Users/person/Coding/Udemy/Python3_Data_Science_And_Machine_Learning/Refactored_Py_DS_ML_Bootcamp-master/22-Deep\\ Learning/MNIST_data/t10k-images-idx3-ubyte.gz\n",
      "Extracting /Users/person/Coding/Udemy/Python3_Data_Science_And_Machine_Learning/Refactored_Py_DS_ML_Bootcamp-master/22-Deep\\ Learning/MNIST_data/t10k-labels-idx1-ubyte.gz\n"
     ]
    }
   ],
   "source": [
    "# \n",
    "mnist = input_data.read_data_sets(\"MNIST_data/\",\n",
    "                                  one_hot=True)"
   ]
  },
  {
   "cell_type": "code",
   "execution_count": 6,
   "metadata": {},
   "outputs": [
    {
     "data": {
      "text/plain": [
       "tensorflow.contrib.learn.python.learn.datasets.base.Datasets"
      ]
     },
     "execution_count": 6,
     "metadata": {},
     "output_type": "execute_result"
    }
   ],
   "source": [
    "type(mnist)"
   ]
  },
  {
   "cell_type": "markdown",
   "metadata": {},
   "source": [
    "Notice that the mnist object has a number of labels (.train, .test, .images, etc)"
   ]
  },
  {
   "cell_type": "code",
   "execution_count": 7,
   "metadata": {},
   "outputs": [
    {
     "data": {
      "text/plain": [
       "array([[0., 0., 0., ..., 0., 0., 0.],\n",
       "       [0., 0., 0., ..., 0., 0., 0.],\n",
       "       [0., 0., 0., ..., 0., 0., 0.],\n",
       "       ...,\n",
       "       [0., 0., 0., ..., 0., 0., 0.],\n",
       "       [0., 0., 0., ..., 0., 0., 0.],\n",
       "       [0., 0., 0., ..., 0., 0., 0.]], dtype=float32)"
      ]
     },
     "execution_count": 7,
     "metadata": {},
     "output_type": "execute_result"
    }
   ],
   "source": [
    "# This is just a series of NumPy arrays\n",
    "mnist.train.images"
   ]
  },
  {
   "cell_type": "markdown",
   "metadata": {},
   "source": [
    "Note the Labels that were applied by one_hot encoding. "
   ]
  },
  {
   "cell_type": "code",
   "execution_count": 34,
   "metadata": {},
   "outputs": [
    {
     "data": {
      "text/plain": [
       "array([[0., 0., 0., ..., 1., 0., 0.],\n",
       "       [0., 0., 0., ..., 0., 0., 0.],\n",
       "       [0., 0., 0., ..., 0., 0., 0.],\n",
       "       ...,\n",
       "       [0., 0., 0., ..., 0., 0., 0.],\n",
       "       [0., 0., 0., ..., 0., 0., 0.],\n",
       "       [0., 0., 0., ..., 0., 1., 0.]])"
      ]
     },
     "execution_count": 34,
     "metadata": {},
     "output_type": "execute_result"
    }
   ],
   "source": [
    "# Note that the labels are \"one_hot\" encoded. \n",
    "# Each of the label positions stands for the number it represents (like IPv4)\n",
    "[0,1,2...]\n",
    "mnist.train.labels"
   ]
  },
  {
   "cell_type": "code",
   "execution_count": 8,
   "metadata": {},
   "outputs": [
    {
     "data": {
      "text/plain": [
       "array([0., 0., 0., 1., 0., 0., 0., 0., 0., 0.])"
      ]
     },
     "execution_count": 8,
     "metadata": {},
     "output_type": "execute_result"
    }
   ],
   "source": [
    "mnist.train.labels[1]"
   ]
  },
  {
   "cell_type": "code",
   "execution_count": 13,
   "metadata": {},
   "outputs": [
    {
     "data": {
      "text/plain": [
       "<matplotlib.image.AxesImage at 0x13d4677b8>"
      ]
     },
     "execution_count": 13,
     "metadata": {},
     "output_type": "execute_result"
    },
    {
     "data": {
      "image/png": "[encoded data removed]",
      "text/plain": [
       "<Figure size 432x288 with 1 Axes>"
      ]
     },
     "metadata": {
      "needs_background": "light"
     },
     "output_type": "display_data"
    }
   ],
   "source": [
    "# If we visualize array 1, notice that everything is empty except label 3\n",
    "# [0,1,2,3,4,5,6,7...] - only place 3 (array element 4) is True\n",
    "plt.imshow(mnist.train.images[1].reshape(28,28),cmap='coolwarm')"
   ]
  },
  {
   "cell_type": "code",
   "execution_count": 14,
   "metadata": {},
   "outputs": [
    {
     "data": {
      "text/plain": [
       "(55000, 784)"
      ]
     },
     "execution_count": 14,
     "metadata": {},
     "output_type": "execute_result"
    }
   ],
   "source": [
    "# 55000 images with 784 pixes per image\n",
    "mnist.train.images.shape"
   ]
  },
  {
   "cell_type": "code",
   "execution_count": 10,
   "metadata": {},
   "outputs": [
    {
     "data": {
      "text/plain": [
       "55000"
      ]
     },
     "execution_count": 10,
     "metadata": {},
     "output_type": "execute_result"
    }
   ],
   "source": [
    "# Confirm the number of examples\n",
    "mnist.train.num_examples"
   ]
  },
  {
   "cell_type": "code",
   "execution_count": 11,
   "metadata": {},
   "outputs": [
    {
     "data": {
      "text/plain": [
       "10000"
      ]
     },
     "execution_count": 11,
     "metadata": {},
     "output_type": "execute_result"
    }
   ],
   "source": [
    "# Note that the test examples are about 1/5th of the total\n",
    "mnist.test.num_examples"
   ]
  },
  {
   "cell_type": "markdown",
   "metadata": {},
   "source": [
    "Now visualize the dataset"
   ]
  },
  {
   "cell_type": "code",
   "execution_count": 56,
   "metadata": {},
   "outputs": [],
   "source": [
    "import seaborn as sns\n",
    "import matplotlib.pyplot as plt\n",
    "import numpy as np\n",
    "import pandas as pd\n",
    "%matplotlib inline\n",
    "plt.rcParams[\"patch.force_edgecolor\"] = True # in matplotlib, edge borders are turned off by default. \n",
    "sns.set_style(\"darkgrid\") # set a grey grid as a background\n",
    "# quell warnings\n",
    "import warnings\n",
    "warnings.filterwarnings('ignore')"
   ]
  },
  {
   "cell_type": "code",
   "execution_count": 13,
   "metadata": {},
   "outputs": [
    {
     "data": {
      "text/plain": [
       "array([0.        , 0.        , 0.        , 0.        , 0.        ,\n",
       "       0.        , 0.        , 0.        , 0.        , 0.        ,\n",
       "       0.        , 0.        , 0.        , 0.        , 0.        ,\n",
       "       0.        , 0.        , 0.        , 0.        , 0.        ,\n",
       "       0.        , 0.        , 0.        , 0.        , 0.        ,\n",
       "       0.        , 0.        , 0.        , 0.        , 0.        ,\n",
       "       0.        , 0.        , 0.        , 0.        , 0.        ,\n",
       "       0.        , 0.        , 0.        , 0.        , 0.        ,\n",
       "       0.        , 0.        , 0.        , 0.        , 0.        ,\n",
       "       0.        , 0.        , 0.        , 0.        , 0.        ,\n",
       "       0.        , 0.        , 0.        , 0.        , 0.        ,\n",
       "       0.        , 0.        , 0.        , 0.        , 0.        ,\n",
       "       0.        , 0.        , 0.        , 0.        , 0.        ,\n",
       "       0.        , 0.        , 0.        , 0.        , 0.        ,\n",
       "       0.        , 0.        , 0.        , 0.        , 0.        ,\n",
       "       0.        , 0.        , 0.        , 0.        , 0.        ,\n",
       "       0.        , 0.        , 0.        , 0.        , 0.        ,\n",
       "       0.        , 0.        , 0.        , 0.        , 0.        ,\n",
       "       0.        , 0.        , 0.        , 0.        , 0.        ,\n",
       "       0.        , 0.        , 0.        , 0.        , 0.        ,\n",
       "       0.        , 0.        , 0.        , 0.        , 0.        ,\n",
       "       0.        , 0.        , 0.        , 0.        , 0.        ,\n",
       "       0.        , 0.        , 0.        , 0.        , 0.        ,\n",
       "       0.        , 0.        , 0.        , 0.        , 0.        ,\n",
       "       0.        , 0.        , 0.        , 0.        , 0.        ,\n",
       "       0.        , 0.        , 0.        , 0.        , 0.        ,\n",
       "       0.        , 0.        , 0.        , 0.        , 0.        ,\n",
       "       0.        , 0.        , 0.        , 0.        , 0.        ,\n",
       "       0.        , 0.        , 0.        , 0.        , 0.        ,\n",
       "       0.        , 0.        , 0.        , 0.        , 0.        ,\n",
       "       0.        , 0.        , 0.        , 0.12156864, 0.5176471 ,\n",
       "       0.9960785 , 0.9921569 , 0.9960785 , 0.8352942 , 0.32156864,\n",
       "       0.        , 0.        , 0.        , 0.        , 0.        ,\n",
       "       0.        , 0.        , 0.        , 0.        , 0.        ,\n",
       "       0.        , 0.        , 0.        , 0.        , 0.        ,\n",
       "       0.        , 0.        , 0.        , 0.        , 0.08235294,\n",
       "       0.5568628 , 0.91372555, 0.98823535, 0.9921569 , 0.98823535,\n",
       "       0.9921569 , 0.98823535, 0.8745099 , 0.07843138, 0.        ,\n",
       "       0.        , 0.        , 0.        , 0.        , 0.        ,\n",
       "       0.        , 0.        , 0.        , 0.        , 0.        ,\n",
       "       0.        , 0.        , 0.        , 0.        , 0.        ,\n",
       "       0.        , 0.48235297, 0.9960785 , 0.9921569 , 0.9960785 ,\n",
       "       0.9921569 , 0.87843144, 0.7960785 , 0.7960785 , 0.8745099 ,\n",
       "       1.        , 0.8352942 , 0.        , 0.        , 0.        ,\n",
       "       0.        , 0.        , 0.        , 0.        , 0.        ,\n",
       "       0.        , 0.        , 0.        , 0.        , 0.        ,\n",
       "       0.        , 0.        , 0.        , 0.        , 0.7960785 ,\n",
       "       0.9921569 , 0.98823535, 0.9921569 , 0.8313726 , 0.07843138,\n",
       "       0.        , 0.        , 0.2392157 , 0.9921569 , 0.98823535,\n",
       "       0.        , 0.        , 0.        , 0.        , 0.        ,\n",
       "       0.        , 0.        , 0.        , 0.        , 0.        ,\n",
       "       0.        , 0.        , 0.        , 0.        , 0.        ,\n",
       "       0.        , 0.16078432, 0.95294124, 0.87843144, 0.7960785 ,\n",
       "       0.7176471 , 0.16078432, 0.59607846, 0.11764707, 0.        ,\n",
       "       0.        , 1.        , 0.9921569 , 0.40000004, 0.        ,\n",
       "       0.        , 0.        , 0.        , 0.        , 0.        ,\n",
       "       0.        , 0.        , 0.        , 0.        , 0.        ,\n",
       "       0.        , 0.        , 0.        , 0.        , 0.        ,\n",
       "       0.15686275, 0.07843138, 0.        , 0.        , 0.40000004,\n",
       "       0.9921569 , 0.19607845, 0.        , 0.32156864, 0.9921569 ,\n",
       "       0.98823535, 0.07843138, 0.        , 0.        , 0.        ,\n",
       "       0.        , 0.        , 0.        , 0.        , 0.        ,\n",
       "       0.        , 0.        , 0.        , 0.        , 0.        ,\n",
       "       0.        , 0.        , 0.        , 0.        , 0.        ,\n",
       "       0.        , 0.        , 0.32156864, 0.83921576, 0.12156864,\n",
       "       0.4431373 , 0.91372555, 0.9960785 , 0.91372555, 0.        ,\n",
       "       0.        , 0.        , 0.        , 0.        , 0.        ,\n",
       "       0.        , 0.        , 0.        , 0.        , 0.        ,\n",
       "       0.        , 0.        , 0.        , 0.        , 0.        ,\n",
       "       0.        , 0.        , 0.24313727, 0.40000004, 0.32156864,\n",
       "       0.16078432, 0.9921569 , 0.909804  , 0.9921569 , 0.98823535,\n",
       "       0.91372555, 0.19607845, 0.        , 0.        , 0.        ,\n",
       "       0.        , 0.        , 0.        , 0.        , 0.        ,\n",
       "       0.        , 0.        , 0.        , 0.        , 0.        ,\n",
       "       0.        , 0.        , 0.        , 0.        , 0.        ,\n",
       "       0.59607846, 0.9921569 , 0.9960785 , 0.9921569 , 0.9960785 ,\n",
       "       0.9921569 , 0.9960785 , 0.91372555, 0.48235297, 0.        ,\n",
       "       0.        , 0.        , 0.        , 0.        , 0.        ,\n",
       "       0.        , 0.        , 0.        , 0.        , 0.        ,\n",
       "       0.        , 0.        , 0.        , 0.        , 0.        ,\n",
       "       0.        , 0.        , 0.        , 0.59607846, 0.98823535,\n",
       "       0.9921569 , 0.98823535, 0.9921569 , 0.98823535, 0.75294125,\n",
       "       0.19607845, 0.        , 0.        , 0.        , 0.        ,\n",
       "       0.        , 0.        , 0.        , 0.        , 0.        ,\n",
       "       0.        , 0.        , 0.        , 0.        , 0.        ,\n",
       "       0.        , 0.        , 0.        , 0.        , 0.        ,\n",
       "       0.        , 0.24313727, 0.7176471 , 0.7960785 , 0.95294124,\n",
       "       0.9960785 , 0.9921569 , 0.24313727, 0.        , 0.        ,\n",
       "       0.        , 0.        , 0.        , 0.        , 0.        ,\n",
       "       0.        , 0.        , 0.        , 0.        , 0.        ,\n",
       "       0.        , 0.        , 0.        , 0.        , 0.        ,\n",
       "       0.        , 0.        , 0.        , 0.        , 0.        ,\n",
       "       0.        , 0.        , 0.15686275, 0.6745098 , 0.98823535,\n",
       "       0.7960785 , 0.07843138, 0.        , 0.        , 0.        ,\n",
       "       0.        , 0.        , 0.        , 0.        , 0.        ,\n",
       "       0.        , 0.        , 0.        , 0.        , 0.        ,\n",
       "       0.        , 0.        , 0.08235294, 0.        , 0.        ,\n",
       "       0.        , 0.        , 0.        , 0.        , 0.        ,\n",
       "       0.        , 0.        , 0.7176471 , 0.9960785 , 0.43921572,\n",
       "       0.        , 0.        , 0.        , 0.        , 0.        ,\n",
       "       0.        , 0.        , 0.        , 0.        , 0.        ,\n",
       "       0.        , 0.        , 0.        , 0.        , 0.24313727,\n",
       "       0.7960785 , 0.6392157 , 0.        , 0.        , 0.        ,\n",
       "       0.        , 0.        , 0.        , 0.        , 0.        ,\n",
       "       0.2392157 , 0.9921569 , 0.5921569 , 0.        , 0.        ,\n",
       "       0.        , 0.        , 0.        , 0.        , 0.        ,\n",
       "       0.        , 0.        , 0.        , 0.        , 0.        ,\n",
       "       0.        , 0.08235294, 0.83921576, 0.75294125, 0.        ,\n",
       "       0.        , 0.        , 0.        , 0.        , 0.        ,\n",
       "       0.        , 0.        , 0.04313726, 0.8352942 , 0.9960785 ,\n",
       "       0.5921569 , 0.        , 0.        , 0.        , 0.        ,\n",
       "       0.        , 0.        , 0.        , 0.        , 0.        ,\n",
       "       0.        , 0.        , 0.        , 0.        , 0.40000004,\n",
       "       0.9921569 , 0.5921569 , 0.        , 0.        , 0.        ,\n",
       "       0.        , 0.        , 0.        , 0.        , 0.16078432,\n",
       "       0.8352942 , 0.98823535, 0.9921569 , 0.43529415, 0.        ,\n",
       "       0.        , 0.        , 0.        , 0.        , 0.        ,\n",
       "       0.        , 0.        , 0.        , 0.        , 0.        ,\n",
       "       0.        , 0.        , 0.16078432, 1.        , 0.8352942 ,\n",
       "       0.36078432, 0.20000002, 0.        , 0.        , 0.12156864,\n",
       "       0.36078432, 0.6784314 , 0.9921569 , 0.9960785 , 0.9921569 ,\n",
       "       0.5568628 , 0.        , 0.        , 0.        , 0.        ,\n",
       "       0.        , 0.        , 0.        , 0.        , 0.        ,\n",
       "       0.        , 0.        , 0.        , 0.        , 0.        ,\n",
       "       0.        , 0.6745098 , 0.98823535, 0.9921569 , 0.98823535,\n",
       "       0.7960785 , 0.7960785 , 0.91372555, 0.98823535, 0.9921569 ,\n",
       "       0.98823535, 0.9921569 , 0.50980395, 0.07843138, 0.        ,\n",
       "       0.        , 0.        , 0.        , 0.        , 0.        ,\n",
       "       0.        , 0.        , 0.        , 0.        , 0.        ,\n",
       "       0.        , 0.        , 0.        , 0.        , 0.08235294,\n",
       "       0.7960785 , 1.        , 0.9921569 , 0.9960785 , 0.9921569 ,\n",
       "       0.9960785 , 0.9921569 , 0.9568628 , 0.7960785 , 0.32156864,\n",
       "       0.        , 0.        , 0.        , 0.        , 0.        ,\n",
       "       0.        , 0.        , 0.        , 0.        , 0.        ,\n",
       "       0.        , 0.        , 0.        , 0.        , 0.        ,\n",
       "       0.        , 0.        , 0.        , 0.07843138, 0.5921569 ,\n",
       "       0.5921569 , 0.9921569 , 0.67058825, 0.5921569 , 0.5921569 ,\n",
       "       0.15686275, 0.        , 0.        , 0.        , 0.        ,\n",
       "       0.        , 0.        , 0.        , 0.        , 0.        ,\n",
       "       0.        , 0.        , 0.        , 0.        , 0.        ,\n",
       "       0.        , 0.        , 0.        , 0.        , 0.        ,\n",
       "       0.        , 0.        , 0.        , 0.        , 0.        ,\n",
       "       0.        , 0.        , 0.        , 0.        , 0.        ,\n",
       "       0.        , 0.        , 0.        , 0.        , 0.        ,\n",
       "       0.        , 0.        , 0.        , 0.        , 0.        ,\n",
       "       0.        , 0.        , 0.        , 0.        , 0.        ,\n",
       "       0.        , 0.        , 0.        , 0.        , 0.        ,\n",
       "       0.        , 0.        , 0.        , 0.        , 0.        ,\n",
       "       0.        , 0.        , 0.        , 0.        , 0.        ,\n",
       "       0.        , 0.        , 0.        , 0.        , 0.        ,\n",
       "       0.        , 0.        , 0.        , 0.        , 0.        ,\n",
       "       0.        , 0.        , 0.        , 0.        , 0.        ,\n",
       "       0.        , 0.        , 0.        , 0.        , 0.        ,\n",
       "       0.        , 0.        , 0.        , 0.        , 0.        ,\n",
       "       0.        , 0.        , 0.        , 0.        , 0.        ,\n",
       "       0.        , 0.        , 0.        , 0.        , 0.        ,\n",
       "       0.        , 0.        , 0.        , 0.        ], dtype=float32)"
      ]
     },
     "execution_count": 13,
     "metadata": {},
     "output_type": "execute_result"
    }
   ],
   "source": [
    "# grab a single image\n",
    "mnist.train.images[1]"
   ]
  },
  {
   "cell_type": "code",
   "execution_count": 14,
   "metadata": {},
   "outputs": [
    {
     "data": {
      "text/plain": [
       "(784,)"
      ]
     },
     "execution_count": 14,
     "metadata": {},
     "output_type": "execute_result"
    }
   ],
   "source": [
    "mnist.train.images[1].shape"
   ]
  },
  {
   "cell_type": "markdown",
   "metadata": {},
   "source": [
    "We want to change this from being a string of 784 pixels to a dataset with a shape of 28x28 (the original dataset size - 28 * 28= 784) "
   ]
  },
  {
   "cell_type": "code",
   "execution_count": 15,
   "metadata": {},
   "outputs": [
    {
     "data": {
      "text/plain": [
       "array([[0.        , 0.        , 0.        , 0.        , 0.        ,\n",
       "        0.        , 0.        , 0.        , 0.        , 0.        ,\n",
       "        0.        , 0.        , 0.        , 0.        , 0.        ,\n",
       "        0.        , 0.        , 0.        , 0.        , 0.        ,\n",
       "        0.        , 0.        , 0.        , 0.        , 0.        ,\n",
       "        0.        , 0.        , 0.        ],\n",
       "       [0.        , 0.        , 0.        , 0.        , 0.        ,\n",
       "        0.        , 0.        , 0.        , 0.        , 0.        ,\n",
       "        0.        , 0.        , 0.        , 0.        , 0.        ,\n",
       "        0.        , 0.        , 0.        , 0.        , 0.        ,\n",
       "        0.        , 0.        , 0.        , 0.        , 0.        ,\n",
       "        0.        , 0.        , 0.        ],\n",
       "       [0.        , 0.        , 0.        , 0.        , 0.        ,\n",
       "        0.        , 0.        , 0.        , 0.        , 0.        ,\n",
       "        0.        , 0.        , 0.        , 0.        , 0.        ,\n",
       "        0.        , 0.        , 0.        , 0.        , 0.        ,\n",
       "        0.        , 0.        , 0.        , 0.        , 0.        ,\n",
       "        0.        , 0.        , 0.        ],\n",
       "       [0.        , 0.        , 0.        , 0.        , 0.        ,\n",
       "        0.        , 0.        , 0.        , 0.        , 0.        ,\n",
       "        0.        , 0.        , 0.        , 0.        , 0.        ,\n",
       "        0.        , 0.        , 0.        , 0.        , 0.        ,\n",
       "        0.        , 0.        , 0.        , 0.        , 0.        ,\n",
       "        0.        , 0.        , 0.        ],\n",
       "       [0.        , 0.        , 0.        , 0.        , 0.        ,\n",
       "        0.        , 0.        , 0.        , 0.        , 0.        ,\n",
       "        0.        , 0.        , 0.        , 0.        , 0.        ,\n",
       "        0.        , 0.        , 0.        , 0.        , 0.        ,\n",
       "        0.        , 0.        , 0.        , 0.        , 0.        ,\n",
       "        0.        , 0.        , 0.        ],\n",
       "       [0.        , 0.        , 0.        , 0.        , 0.        ,\n",
       "        0.        , 0.        , 0.        , 0.        , 0.        ,\n",
       "        0.        , 0.        , 0.        , 0.12156864, 0.5176471 ,\n",
       "        0.9960785 , 0.9921569 , 0.9960785 , 0.8352942 , 0.32156864,\n",
       "        0.        , 0.        , 0.        , 0.        , 0.        ,\n",
       "        0.        , 0.        , 0.        ],\n",
       "       [0.        , 0.        , 0.        , 0.        , 0.        ,\n",
       "        0.        , 0.        , 0.        , 0.        , 0.        ,\n",
       "        0.        , 0.08235294, 0.5568628 , 0.91372555, 0.98823535,\n",
       "        0.9921569 , 0.98823535, 0.9921569 , 0.98823535, 0.8745099 ,\n",
       "        0.07843138, 0.        , 0.        , 0.        , 0.        ,\n",
       "        0.        , 0.        , 0.        ],\n",
       "       [0.        , 0.        , 0.        , 0.        , 0.        ,\n",
       "        0.        , 0.        , 0.        , 0.        , 0.        ,\n",
       "        0.48235297, 0.9960785 , 0.9921569 , 0.9960785 , 0.9921569 ,\n",
       "        0.87843144, 0.7960785 , 0.7960785 , 0.8745099 , 1.        ,\n",
       "        0.8352942 , 0.        , 0.        , 0.        , 0.        ,\n",
       "        0.        , 0.        , 0.        ],\n",
       "       [0.        , 0.        , 0.        , 0.        , 0.        ,\n",
       "        0.        , 0.        , 0.        , 0.        , 0.        ,\n",
       "        0.7960785 , 0.9921569 , 0.98823535, 0.9921569 , 0.8313726 ,\n",
       "        0.07843138, 0.        , 0.        , 0.2392157 , 0.9921569 ,\n",
       "        0.98823535, 0.        , 0.        , 0.        , 0.        ,\n",
       "        0.        , 0.        , 0.        ],\n",
       "       [0.        , 0.        , 0.        , 0.        , 0.        ,\n",
       "        0.        , 0.        , 0.        , 0.        , 0.16078432,\n",
       "        0.95294124, 0.87843144, 0.7960785 , 0.7176471 , 0.16078432,\n",
       "        0.59607846, 0.11764707, 0.        , 0.        , 1.        ,\n",
       "        0.9921569 , 0.40000004, 0.        , 0.        , 0.        ,\n",
       "        0.        , 0.        , 0.        ],\n",
       "       [0.        , 0.        , 0.        , 0.        , 0.        ,\n",
       "        0.        , 0.        , 0.        , 0.        , 0.        ,\n",
       "        0.15686275, 0.07843138, 0.        , 0.        , 0.40000004,\n",
       "        0.9921569 , 0.19607845, 0.        , 0.32156864, 0.9921569 ,\n",
       "        0.98823535, 0.07843138, 0.        , 0.        , 0.        ,\n",
       "        0.        , 0.        , 0.        ],\n",
       "       [0.        , 0.        , 0.        , 0.        , 0.        ,\n",
       "        0.        , 0.        , 0.        , 0.        , 0.        ,\n",
       "        0.        , 0.        , 0.        , 0.        , 0.32156864,\n",
       "        0.83921576, 0.12156864, 0.4431373 , 0.91372555, 0.9960785 ,\n",
       "        0.91372555, 0.        , 0.        , 0.        , 0.        ,\n",
       "        0.        , 0.        , 0.        ],\n",
       "       [0.        , 0.        , 0.        , 0.        , 0.        ,\n",
       "        0.        , 0.        , 0.        , 0.        , 0.        ,\n",
       "        0.        , 0.24313727, 0.40000004, 0.32156864, 0.16078432,\n",
       "        0.9921569 , 0.909804  , 0.9921569 , 0.98823535, 0.91372555,\n",
       "        0.19607845, 0.        , 0.        , 0.        , 0.        ,\n",
       "        0.        , 0.        , 0.        ],\n",
       "       [0.        , 0.        , 0.        , 0.        , 0.        ,\n",
       "        0.        , 0.        , 0.        , 0.        , 0.        ,\n",
       "        0.        , 0.59607846, 0.9921569 , 0.9960785 , 0.9921569 ,\n",
       "        0.9960785 , 0.9921569 , 0.9960785 , 0.91372555, 0.48235297,\n",
       "        0.        , 0.        , 0.        , 0.        , 0.        ,\n",
       "        0.        , 0.        , 0.        ],\n",
       "       [0.        , 0.        , 0.        , 0.        , 0.        ,\n",
       "        0.        , 0.        , 0.        , 0.        , 0.        ,\n",
       "        0.        , 0.59607846, 0.98823535, 0.9921569 , 0.98823535,\n",
       "        0.9921569 , 0.98823535, 0.75294125, 0.19607845, 0.        ,\n",
       "        0.        , 0.        , 0.        , 0.        , 0.        ,\n",
       "        0.        , 0.        , 0.        ],\n",
       "       [0.        , 0.        , 0.        , 0.        , 0.        ,\n",
       "        0.        , 0.        , 0.        , 0.        , 0.        ,\n",
       "        0.        , 0.24313727, 0.7176471 , 0.7960785 , 0.95294124,\n",
       "        0.9960785 , 0.9921569 , 0.24313727, 0.        , 0.        ,\n",
       "        0.        , 0.        , 0.        , 0.        , 0.        ,\n",
       "        0.        , 0.        , 0.        ],\n",
       "       [0.        , 0.        , 0.        , 0.        , 0.        ,\n",
       "        0.        , 0.        , 0.        , 0.        , 0.        ,\n",
       "        0.        , 0.        , 0.        , 0.        , 0.15686275,\n",
       "        0.6745098 , 0.98823535, 0.7960785 , 0.07843138, 0.        ,\n",
       "        0.        , 0.        , 0.        , 0.        , 0.        ,\n",
       "        0.        , 0.        , 0.        ],\n",
       "       [0.        , 0.        , 0.        , 0.        , 0.        ,\n",
       "        0.        , 0.08235294, 0.        , 0.        , 0.        ,\n",
       "        0.        , 0.        , 0.        , 0.        , 0.        ,\n",
       "        0.        , 0.7176471 , 0.9960785 , 0.43921572, 0.        ,\n",
       "        0.        , 0.        , 0.        , 0.        , 0.        ,\n",
       "        0.        , 0.        , 0.        ],\n",
       "       [0.        , 0.        , 0.        , 0.        , 0.        ,\n",
       "        0.24313727, 0.7960785 , 0.6392157 , 0.        , 0.        ,\n",
       "        0.        , 0.        , 0.        , 0.        , 0.        ,\n",
       "        0.        , 0.2392157 , 0.9921569 , 0.5921569 , 0.        ,\n",
       "        0.        , 0.        , 0.        , 0.        , 0.        ,\n",
       "        0.        , 0.        , 0.        ],\n",
       "       [0.        , 0.        , 0.        , 0.        , 0.08235294,\n",
       "        0.83921576, 0.75294125, 0.        , 0.        , 0.        ,\n",
       "        0.        , 0.        , 0.        , 0.        , 0.        ,\n",
       "        0.04313726, 0.8352942 , 0.9960785 , 0.5921569 , 0.        ,\n",
       "        0.        , 0.        , 0.        , 0.        , 0.        ,\n",
       "        0.        , 0.        , 0.        ],\n",
       "       [0.        , 0.        , 0.        , 0.        , 0.40000004,\n",
       "        0.9921569 , 0.5921569 , 0.        , 0.        , 0.        ,\n",
       "        0.        , 0.        , 0.        , 0.        , 0.16078432,\n",
       "        0.8352942 , 0.98823535, 0.9921569 , 0.43529415, 0.        ,\n",
       "        0.        , 0.        , 0.        , 0.        , 0.        ,\n",
       "        0.        , 0.        , 0.        ],\n",
       "       [0.        , 0.        , 0.        , 0.        , 0.16078432,\n",
       "        1.        , 0.8352942 , 0.36078432, 0.20000002, 0.        ,\n",
       "        0.        , 0.12156864, 0.36078432, 0.6784314 , 0.9921569 ,\n",
       "        0.9960785 , 0.9921569 , 0.5568628 , 0.        , 0.        ,\n",
       "        0.        , 0.        , 0.        , 0.        , 0.        ,\n",
       "        0.        , 0.        , 0.        ],\n",
       "       [0.        , 0.        , 0.        , 0.        , 0.        ,\n",
       "        0.6745098 , 0.98823535, 0.9921569 , 0.98823535, 0.7960785 ,\n",
       "        0.7960785 , 0.91372555, 0.98823535, 0.9921569 , 0.98823535,\n",
       "        0.9921569 , 0.50980395, 0.07843138, 0.        , 0.        ,\n",
       "        0.        , 0.        , 0.        , 0.        , 0.        ,\n",
       "        0.        , 0.        , 0.        ],\n",
       "       [0.        , 0.        , 0.        , 0.        , 0.        ,\n",
       "        0.08235294, 0.7960785 , 1.        , 0.9921569 , 0.9960785 ,\n",
       "        0.9921569 , 0.9960785 , 0.9921569 , 0.9568628 , 0.7960785 ,\n",
       "        0.32156864, 0.        , 0.        , 0.        , 0.        ,\n",
       "        0.        , 0.        , 0.        , 0.        , 0.        ,\n",
       "        0.        , 0.        , 0.        ],\n",
       "       [0.        , 0.        , 0.        , 0.        , 0.        ,\n",
       "        0.        , 0.07843138, 0.5921569 , 0.5921569 , 0.9921569 ,\n",
       "        0.67058825, 0.5921569 , 0.5921569 , 0.15686275, 0.        ,\n",
       "        0.        , 0.        , 0.        , 0.        , 0.        ,\n",
       "        0.        , 0.        , 0.        , 0.        , 0.        ,\n",
       "        0.        , 0.        , 0.        ],\n",
       "       [0.        , 0.        , 0.        , 0.        , 0.        ,\n",
       "        0.        , 0.        , 0.        , 0.        , 0.        ,\n",
       "        0.        , 0.        , 0.        , 0.        , 0.        ,\n",
       "        0.        , 0.        , 0.        , 0.        , 0.        ,\n",
       "        0.        , 0.        , 0.        , 0.        , 0.        ,\n",
       "        0.        , 0.        , 0.        ],\n",
       "       [0.        , 0.        , 0.        , 0.        , 0.        ,\n",
       "        0.        , 0.        , 0.        , 0.        , 0.        ,\n",
       "        0.        , 0.        , 0.        , 0.        , 0.        ,\n",
       "        0.        , 0.        , 0.        , 0.        , 0.        ,\n",
       "        0.        , 0.        , 0.        , 0.        , 0.        ,\n",
       "        0.        , 0.        , 0.        ],\n",
       "       [0.        , 0.        , 0.        , 0.        , 0.        ,\n",
       "        0.        , 0.        , 0.        , 0.        , 0.        ,\n",
       "        0.        , 0.        , 0.        , 0.        , 0.        ,\n",
       "        0.        , 0.        , 0.        , 0.        , 0.        ,\n",
       "        0.        , 0.        , 0.        , 0.        , 0.        ,\n",
       "        0.        , 0.        , 0.        ]], dtype=float32)"
      ]
     },
     "execution_count": 15,
     "metadata": {},
     "output_type": "execute_result"
    }
   ],
   "source": [
    "mnist.train.images[1].reshape(28,28)"
   ]
  },
  {
   "cell_type": "code",
   "execution_count": 21,
   "metadata": {},
   "outputs": [
    {
     "data": {
      "text/plain": [
       "<matplotlib.image.AxesImage at 0x100f079b0>"
      ]
     },
     "execution_count": 21,
     "metadata": {},
     "output_type": "execute_result"
    },
    {
     "data": {
      "image/png": "[encoded data removed]",
      "text/plain": [
       "<Figure size 432x288 with 1 Axes>"
      ]
     },
     "metadata": {
      "needs_background": "light"
     },
     "output_type": "display_data"
    }
   ],
   "source": [
    "# Now plot it out with plt.imshow\n",
    "plt.imshow(mnist.train.images[1].reshape(28,28), cmap='coolwarm')"
   ]
  },
  {
   "cell_type": "code",
   "execution_count": 18,
   "metadata": {},
   "outputs": [
    {
     "data": {
      "text/plain": [
       "<matplotlib.image.AxesImage at 0x100d4b2b0>"
      ]
     },
     "execution_count": 18,
     "metadata": {},
     "output_type": "execute_result"
    },
    {
     "data": {
      "image/png": "[encoded data removed]",
      "text/plain": [
       "<Figure size 432x288 with 1 Axes>"
      ]
     },
     "metadata": {
      "needs_background": "light"
     },
     "output_type": "display_data"
    }
   ],
   "source": [
    "# If we wanted to visualize this in Grayscale, add the cmap\n",
    "plt.imshow(mnist.train.images[1].reshape(28,28),cmap='gist_gray')"
   ]
  },
  {
   "cell_type": "markdown",
   "metadata": {},
   "source": [
    "We actually don't want to pass this in with the visualizeable format, we want to pass it in as 784,1 - a Vector of numbers. "
   ]
  },
  {
   "cell_type": "code",
   "execution_count": 22,
   "metadata": {},
   "outputs": [
    {
     "data": {
      "text/plain": [
       "<matplotlib.image.AxesImage at 0x1356b9160>"
      ]
     },
     "execution_count": 22,
     "metadata": {},
     "output_type": "execute_result"
    },
    {
     "data": {
      "image/png": "[encoded data removed]",
      "text/plain": [
       "<Figure size 432x288 with 1 Axes>"
      ]
     },
     "metadata": {
      "needs_background": "light"
     },
     "output_type": "display_data"
    }
   ],
   "source": [
    "# Doesn't really show us anything - aspect too small\n",
    "plt.imshow(mnist.train.images[1].reshape(784,1),cmap='gist_gray')"
   ]
  },
  {
   "cell_type": "code",
   "execution_count": 23,
   "metadata": {},
   "outputs": [
    {
     "data": {
      "text/plain": [
       "<matplotlib.image.AxesImage at 0x135703e10>"
      ]
     },
     "execution_count": 23,
     "metadata": {},
     "output_type": "execute_result"
    },
    {
     "data": {
      "image/png": "[encoded data removed]",
      "text/plain": [
       "<Figure size 432x288 with 1 Axes>"
      ]
     },
     "metadata": {
      "needs_background": "light"
     },
     "output_type": "display_data"
    }
   ],
   "source": [
    "# to slightly improve this\n",
    "plt.imshow(mnist.train.images[1].reshape(784,1),cmap='gist_gray',aspect=0.02)"
   ]
  },
  {
   "cell_type": "code",
   "execution_count": 48,
   "metadata": {},
   "outputs": [
    {
     "data": {
      "text/plain": [
       "<matplotlib.image.AxesImage at 0x128e86550>"
      ]
     },
     "execution_count": 48,
     "metadata": {},
     "output_type": "execute_result"
    },
    {
     "data": {
      "image/png": "[encoded data removed]",
      "text/plain": [
       "<Figure size 432x288 with 1 Axes>"
      ]
     },
     "metadata": {
      "needs_background": "light"
     },
     "output_type": "display_data"
    }
   ],
   "source": [
    "# Can also show horizontally\n",
    "plt.imshow(mnist.train.images[1].reshape(28,28),cmap='gist_gray',aspect=0.5)"
   ]
  },
  {
   "cell_type": "markdown",
   "metadata": {},
   "source": [
    "### Creating a tensorflow model to classify the data\n",
    "\n",
    "All of this is a longhand way of doing things that will be simpler using TensorFlow Estimators for real world data. This is an example to pull back the curtains and see the longhand\n",
    "\n",
    "**Now to create the model**\n",
    "\n",
    "Notice how the second dimension of x = the first dimension of W (784) and that W's second variable matches up with b's first (only) variable  \n",
    "e.g  \n",
    "x [None,784]  \n",
    "W [784,10]  \n",
    "b [10]  "
   ]
  },
  {
   "cell_type": "code",
   "execution_count": 28,
   "metadata": {},
   "outputs": [],
   "source": [
    "# Create a placeholder with dtype and a shape\n",
    "# We also want to break them up into batches\n",
    "# weirdly, \"shape\" is also used to batch. So:\n",
    "# shape=[None,784] means \"[batchsize,vectorsize]\" without a definition yet for batchsize\n",
    "x = tf.placeholder(tf.float32,shape=[None,784])"
   ]
  },
  {
   "cell_type": "code",
   "execution_count": 30,
   "metadata": {},
   "outputs": [],
   "source": [
    "# now define weights\n",
    "# tf.zeros(shape, dtype=tf.float32, name=None) - \n",
    "# in this case 784 is the shape and 10 means that we expect 10 possible target labels (0-9)\n",
    "W = tf.Variable(tf.zeros([784,10]))"
   ]
  },
  {
   "cell_type": "code",
   "execution_count": 31,
   "metadata": {},
   "outputs": [],
   "source": [
    "# Now add Biases\n",
    "b = tf.Variable(tf.zeros([10]))"
   ]
  },
  {
   "cell_type": "markdown",
   "metadata": {},
   "source": [
    "**Now to create the graph/Tensor object**\n"
   ]
  },
  {
   "cell_type": "code",
   "execution_count": 32,
   "metadata": {},
   "outputs": [],
   "source": [
    "# Creating the graph with Matrix Multiply\n",
    "y=tf.matmul(x,W)+ b"
   ]
  },
  {
   "cell_type": "code",
   "execution_count": 51,
   "metadata": {},
   "outputs": [
    {
     "data": {
      "text/plain": [
       "<tf.Tensor 'add:0' shape=(?, 10) dtype=float32>"
      ]
     },
     "execution_count": 51,
     "metadata": {},
     "output_type": "execute_result"
    }
   ],
   "source": [
    "# The Tensor object\n",
    "y"
   ]
  },
  {
   "cell_type": "code",
   "execution_count": 50,
   "metadata": {},
   "outputs": [
    {
     "data": {
      "text/plain": [
       "tensorflow.python.framework.ops.Tensor"
      ]
     },
     "execution_count": 50,
     "metadata": {},
     "output_type": "execute_result"
    }
   ],
   "source": [
    "type(y)"
   ]
  },
  {
   "cell_type": "markdown",
   "metadata": {},
   "source": [
    "#### Create an object with the Correct Labels\n"
   ]
  },
  {
   "cell_type": "code",
   "execution_count": 33,
   "metadata": {},
   "outputs": [],
   "source": [
    "# Here we pass in the Correct labels\n",
    "# Notice how this is very similar to the original x.\n",
    "# the shape=[a label for the batch, 10 possible values]\n",
    "# e.g\n",
    "\n",
    "y_true = tf.placeholder(tf.float32,shape=[None,10])"
   ]
  },
  {
   "cell_type": "code",
   "execution_count": 38,
   "metadata": {},
   "outputs": [
    {
     "data": {
      "text/plain": [
       "10"
      ]
     },
     "execution_count": 38,
     "metadata": {},
     "output_type": "execute_result"
    }
   ],
   "source": [
    "# the 10 matches the hot encoding labels (see above)\n",
    "len(mnist.train.labels[1])"
   ]
  },
  {
   "cell_type": "markdown",
   "metadata": {},
   "source": [
    "#### Now find a Loss and Optimizer\n",
    "\n",
    "This takes care of the mathematics of running the gradient descent optimizer then minimizing that error. \n",
    "\n",
    "Sidenote:\n",
    "Logits is an overloaded term which can mean many different things: In Math, Logit is a function that maps probabilities ( [0, 1] ) to R ( (-inf, inf) ) Probability of 0.5 corresponds to a logit of 0. Negative logit correspond to probabilities less than 0.5, positive to > 0.5."
   ]
  },
  {
   "cell_type": "markdown",
   "metadata": {},
   "source": [
    "Essentially   \n",
    "**Optimizer** is the *Method of how you're trying to reduce the error*  \n",
    "and  \n",
    "**Cross Entropy** is *how you're actually defining the error*\n",
    "\n",
    "You can think of Cross Entropy as a fancy way of saying \"the actual error\""
   ]
  },
  {
   "cell_type": "markdown",
   "metadata": {},
   "source": [
    "**Cross Entropy**"
   ]
  },
  {
   "cell_type": "code",
   "execution_count": 40,
   "metadata": {},
   "outputs": [],
   "source": [
    "# Set Cross Entropy\n",
    "# here we say that the correct labels can be found in y_true and the logits (what we're predicting)=y\n",
    "cross_entropy = tf.reduce_mean(tf.nn.softmax_cross_entropy_with_logits_v2(labels=y_true,logits=y))"
   ]
  },
  {
   "cell_type": "markdown",
   "metadata": {},
   "source": [
    "**Optimizer**"
   ]
  },
  {
   "cell_type": "code",
   "execution_count": 42,
   "metadata": {},
   "outputs": [],
   "source": [
    "# Set up Optimizer. \n",
    "# Play around with learning_rate - lower means slower, but more accurate (and the reverse is true)\n",
    "# \"guess and check\"\n",
    "optimizer = tf.train.GradientDescentOptimizer(learning_rate=0.5)"
   ]
  },
  {
   "cell_type": "code",
   "execution_count": 43,
   "metadata": {},
   "outputs": [],
   "source": [
    "# Here we say \"Grab that optimizer and Minimize these types of errors\"\n",
    "train = optimizer.minimize(cross_entropy)"
   ]
  },
  {
   "cell_type": "markdown",
   "metadata": {},
   "source": [
    "#### Everything up to this point has been defined but not run yet. \n",
    "\n",
    "Everything is essentially a *Static Graph* until we tell them to run at Session\n",
    "\n",
    "\n",
    "### Creating a session"
   ]
  },
  {
   "cell_type": "markdown",
   "metadata": {},
   "source": [
    "#### Initialize the variables"
   ]
  },
  {
   "cell_type": "code",
   "execution_count": 53,
   "metadata": {},
   "outputs": [],
   "source": [
    "# Initializing the variables\n",
    "init = tf.global_variables_initializer()"
   ]
  },
  {
   "cell_type": "markdown",
   "metadata": {},
   "source": [
    "When running this should get close to 90% accuracy with just this setup. This isn't great since we're already working with well known data. Very Good Models get over 99% accuracy with Convolutional Network Models.\n",
    "\n",
    "\n",
    "#### Running the session"
   ]
  },
  {
   "cell_type": "code",
   "execution_count": 45,
   "metadata": {},
   "outputs": [
    {
     "name": "stdout",
     "output_type": "stream",
     "text": [
      "0.9183\n"
     ]
    }
   ],
   "source": [
    "# Now run the session\n",
    "with tf.Session() as sess:\n",
    "    # first run the initializer\n",
    "    sess.run(init)\n",
    "    # then train the model for a certain amount of steps, in this case 1000\n",
    "    for step in range(1000):\n",
    "        # mnist has a built-in convenience method for training the next batch. \n",
    "        # Real world is less likely to have these\n",
    "        # Define the Batch Size as 100, then grab their x values and y target labels\n",
    "        batch_x, batch_y = mnist.train.next_batch(100)\n",
    "        # passing in the batches to the placeholders we defined earlier\n",
    "        sess.run(train,feed_dict={x:batch_x, y_true:batch_y})\n",
    "    # where are these equal to each other between my predicted labels vs the true label actually is    \n",
    "    matches = tf.equal(tf.argmax(y,1),tf.argmax(y_true,1))\n",
    "    # Calculate accuracy\n",
    "    acc = tf.reduce_mean(tf.cast(matches,tf.float32))\n",
    "    # print out accuracy\n",
    "    print(sess.run(acc,feed_dict={x:mnist.test.images,y_true:mnist.test.labels}))"
   ]
  },
  {
   "cell_type": "markdown",
   "metadata": {},
   "source": [
    "And that's that. \n",
    "\n",
    "**You now have an estimation using *Classical TensorFlow***"
   ]
  },
  {
   "cell_type": "markdown",
   "metadata": {},
   "source": [
    "## Using TensorFlow Estimators\n",
    "### Analyzing the Iris Dataset\n",
    "\n",
    "The newer and easier way of doing things. Much closer to what we've done with Scikit-Learn\n",
    "\n",
    "**Estimator Steps**\n",
    "- Read in the data (normalize if necessary)\n",
    "- Train/Test Split the data\n",
    "- Create Estimator Feature Columns (a list of specialized feature columns)\n",
    "- Create Input Estimator Function (a way of organizing your training data)\n",
    "- Train Estimator Model \n",
    "- Predict with New Test Input Function\n",
    "\n",
    "\n",
    "\n",
    "**Using the Iris CSV file with pandas get data into correct formats**"
   ]
  },
  {
   "cell_type": "code",
   "execution_count": 58,
   "metadata": {},
   "outputs": [],
   "source": [
    "df = pd.read_csv('iris.csv')"
   ]
  },
  {
   "cell_type": "code",
   "execution_count": 59,
   "metadata": {},
   "outputs": [
    {
     "data": {
      "text/html": [
       "<div>\n",
       "<style scoped>\n",
       "    .dataframe tbody tr th:only-of-type {\n",
       "        vertical-align: middle;\n",
       "    }\n",
       "\n",
       "    .dataframe tbody tr th {\n",
       "        vertical-align: top;\n",
       "    }\n",
       "\n",
       "    .dataframe thead th {\n",
       "        text-align: right;\n",
       "    }\n",
       "</style>\n",
       "<table border=\"1\" class=\"dataframe\">\n",
       "  <thead>\n",
       "    <tr style=\"text-align: right;\">\n",
       "      <th></th>\n",
       "      <th>sepal length (cm)</th>\n",
       "      <th>sepal width (cm)</th>\n",
       "      <th>petal length (cm)</th>\n",
       "      <th>petal width (cm)</th>\n",
       "      <th>target</th>\n",
       "    </tr>\n",
       "  </thead>\n",
       "  <tbody>\n",
       "    <tr>\n",
       "      <th>0</th>\n",
       "      <td>5.1</td>\n",
       "      <td>3.5</td>\n",
       "      <td>1.4</td>\n",
       "      <td>0.2</td>\n",
       "      <td>0.0</td>\n",
       "    </tr>\n",
       "    <tr>\n",
       "      <th>1</th>\n",
       "      <td>4.9</td>\n",
       "      <td>3.0</td>\n",
       "      <td>1.4</td>\n",
       "      <td>0.2</td>\n",
       "      <td>0.0</td>\n",
       "    </tr>\n",
       "    <tr>\n",
       "      <th>2</th>\n",
       "      <td>4.7</td>\n",
       "      <td>3.2</td>\n",
       "      <td>1.3</td>\n",
       "      <td>0.2</td>\n",
       "      <td>0.0</td>\n",
       "    </tr>\n",
       "    <tr>\n",
       "      <th>3</th>\n",
       "      <td>4.6</td>\n",
       "      <td>3.1</td>\n",
       "      <td>1.5</td>\n",
       "      <td>0.2</td>\n",
       "      <td>0.0</td>\n",
       "    </tr>\n",
       "    <tr>\n",
       "      <th>4</th>\n",
       "      <td>5.0</td>\n",
       "      <td>3.6</td>\n",
       "      <td>1.4</td>\n",
       "      <td>0.2</td>\n",
       "      <td>0.0</td>\n",
       "    </tr>\n",
       "  </tbody>\n",
       "</table>\n",
       "</div>"
      ],
      "text/plain": [
       "   sepal length (cm)  sepal width (cm)  petal length (cm)  petal width (cm)  \\\n",
       "0                5.1               3.5                1.4               0.2   \n",
       "1                4.9               3.0                1.4               0.2   \n",
       "2                4.7               3.2                1.3               0.2   \n",
       "3                4.6               3.1                1.5               0.2   \n",
       "4                5.0               3.6                1.4               0.2   \n",
       "\n",
       "   target  \n",
       "0     0.0  \n",
       "1     0.0  \n",
       "2     0.0  \n",
       "3     0.0  \n",
       "4     0.0  "
      ]
     },
     "execution_count": 59,
     "metadata": {},
     "output_type": "execute_result"
    }
   ],
   "source": [
    "df.head()"
   ]
  },
  {
   "cell_type": "code",
   "execution_count": 60,
   "metadata": {},
   "outputs": [
    {
     "name": "stdout",
     "output_type": "stream",
     "text": [
      "<class 'pandas.core.frame.DataFrame'>\n",
      "RangeIndex: 150 entries, 0 to 149\n",
      "Data columns (total 5 columns):\n",
      "sepal length (cm)    150 non-null float64\n",
      "sepal width (cm)     150 non-null float64\n",
      "petal length (cm)    150 non-null float64\n",
      "petal width (cm)     150 non-null float64\n",
      "target               150 non-null float64\n",
      "dtypes: float64(5)\n",
      "memory usage: 5.9 KB\n"
     ]
    }
   ],
   "source": [
    "df.info()"
   ]
  },
  {
   "cell_type": "markdown",
   "metadata": {},
   "source": [
    "**To use TensorFlow we have to:**\n",
    "- scrub the column names of spaces and special characters\n",
    "- the Target column (binary yes or no) must be an integer\n"
   ]
  },
  {
   "cell_type": "code",
   "execution_count": 61,
   "metadata": {},
   "outputs": [
    {
     "data": {
      "text/plain": [
       "Index(['sepal length (cm)', 'sepal width (cm)', 'petal length (cm)',\n",
       "       'petal width (cm)', 'target'],\n",
       "      dtype='object')"
      ]
     },
     "execution_count": 61,
     "metadata": {},
     "output_type": "execute_result"
    }
   ],
   "source": [
    "df.columns"
   ]
  },
  {
   "cell_type": "code",
   "execution_count": 62,
   "metadata": {},
   "outputs": [],
   "source": [
    "# scrub spaces and parens\n",
    "df.columns = ['sepal_length', 'sepal_width', 'petal_length',\n",
    "       'petal_width', 'target']"
   ]
  },
  {
   "cell_type": "code",
   "execution_count": 63,
   "metadata": {},
   "outputs": [
    {
     "data": {
      "text/plain": [
       "Index(['sepal_length', 'sepal_width', 'petal_length', 'petal_width', 'target'], dtype='object')"
      ]
     },
     "execution_count": 63,
     "metadata": {},
     "output_type": "execute_result"
    }
   ],
   "source": [
    "df.columns"
   ]
  },
  {
   "cell_type": "code",
   "execution_count": 64,
   "metadata": {},
   "outputs": [
    {
     "data": {
      "text/html": [
       "<div>\n",
       "<style scoped>\n",
       "    .dataframe tbody tr th:only-of-type {\n",
       "        vertical-align: middle;\n",
       "    }\n",
       "\n",
       "    .dataframe tbody tr th {\n",
       "        vertical-align: top;\n",
       "    }\n",
       "\n",
       "    .dataframe thead th {\n",
       "        text-align: right;\n",
       "    }\n",
       "</style>\n",
       "<table border=\"1\" class=\"dataframe\">\n",
       "  <thead>\n",
       "    <tr style=\"text-align: right;\">\n",
       "      <th></th>\n",
       "      <th>sepal_length</th>\n",
       "      <th>sepal_width</th>\n",
       "      <th>petal_length</th>\n",
       "      <th>petal_width</th>\n",
       "      <th>target</th>\n",
       "    </tr>\n",
       "  </thead>\n",
       "  <tbody>\n",
       "    <tr>\n",
       "      <th>0</th>\n",
       "      <td>5.1</td>\n",
       "      <td>3.5</td>\n",
       "      <td>1.4</td>\n",
       "      <td>0.2</td>\n",
       "      <td>0.0</td>\n",
       "    </tr>\n",
       "    <tr>\n",
       "      <th>1</th>\n",
       "      <td>4.9</td>\n",
       "      <td>3.0</td>\n",
       "      <td>1.4</td>\n",
       "      <td>0.2</td>\n",
       "      <td>0.0</td>\n",
       "    </tr>\n",
       "    <tr>\n",
       "      <th>2</th>\n",
       "      <td>4.7</td>\n",
       "      <td>3.2</td>\n",
       "      <td>1.3</td>\n",
       "      <td>0.2</td>\n",
       "      <td>0.0</td>\n",
       "    </tr>\n",
       "    <tr>\n",
       "      <th>3</th>\n",
       "      <td>4.6</td>\n",
       "      <td>3.1</td>\n",
       "      <td>1.5</td>\n",
       "      <td>0.2</td>\n",
       "      <td>0.0</td>\n",
       "    </tr>\n",
       "    <tr>\n",
       "      <th>4</th>\n",
       "      <td>5.0</td>\n",
       "      <td>3.6</td>\n",
       "      <td>1.4</td>\n",
       "      <td>0.2</td>\n",
       "      <td>0.0</td>\n",
       "    </tr>\n",
       "  </tbody>\n",
       "</table>\n",
       "</div>"
      ],
      "text/plain": [
       "   sepal_length  sepal_width  petal_length  petal_width  target\n",
       "0           5.1          3.5           1.4          0.2     0.0\n",
       "1           4.9          3.0           1.4          0.2     0.0\n",
       "2           4.7          3.2           1.3          0.2     0.0\n",
       "3           4.6          3.1           1.5          0.2     0.0\n",
       "4           5.0          3.6           1.4          0.2     0.0"
      ]
     },
     "execution_count": 64,
     "metadata": {},
     "output_type": "execute_result"
    }
   ],
   "source": [
    "df.head()"
   ]
  },
  {
   "cell_type": "code",
   "execution_count": 65,
   "metadata": {},
   "outputs": [],
   "source": [
    "# recast target as an integer\n",
    "df['target'] = df['target'].apply(int)"
   ]
  },
  {
   "cell_type": "code",
   "execution_count": 66,
   "metadata": {},
   "outputs": [
    {
     "data": {
      "text/html": [
       "<div>\n",
       "<style scoped>\n",
       "    .dataframe tbody tr th:only-of-type {\n",
       "        vertical-align: middle;\n",
       "    }\n",
       "\n",
       "    .dataframe tbody tr th {\n",
       "        vertical-align: top;\n",
       "    }\n",
       "\n",
       "    .dataframe thead th {\n",
       "        text-align: right;\n",
       "    }\n",
       "</style>\n",
       "<table border=\"1\" class=\"dataframe\">\n",
       "  <thead>\n",
       "    <tr style=\"text-align: right;\">\n",
       "      <th></th>\n",
       "      <th>sepal_length</th>\n",
       "      <th>sepal_width</th>\n",
       "      <th>petal_length</th>\n",
       "      <th>petal_width</th>\n",
       "      <th>target</th>\n",
       "    </tr>\n",
       "  </thead>\n",
       "  <tbody>\n",
       "    <tr>\n",
       "      <th>0</th>\n",
       "      <td>5.1</td>\n",
       "      <td>3.5</td>\n",
       "      <td>1.4</td>\n",
       "      <td>0.2</td>\n",
       "      <td>0</td>\n",
       "    </tr>\n",
       "    <tr>\n",
       "      <th>1</th>\n",
       "      <td>4.9</td>\n",
       "      <td>3.0</td>\n",
       "      <td>1.4</td>\n",
       "      <td>0.2</td>\n",
       "      <td>0</td>\n",
       "    </tr>\n",
       "    <tr>\n",
       "      <th>2</th>\n",
       "      <td>4.7</td>\n",
       "      <td>3.2</td>\n",
       "      <td>1.3</td>\n",
       "      <td>0.2</td>\n",
       "      <td>0</td>\n",
       "    </tr>\n",
       "    <tr>\n",
       "      <th>3</th>\n",
       "      <td>4.6</td>\n",
       "      <td>3.1</td>\n",
       "      <td>1.5</td>\n",
       "      <td>0.2</td>\n",
       "      <td>0</td>\n",
       "    </tr>\n",
       "    <tr>\n",
       "      <th>4</th>\n",
       "      <td>5.0</td>\n",
       "      <td>3.6</td>\n",
       "      <td>1.4</td>\n",
       "      <td>0.2</td>\n",
       "      <td>0</td>\n",
       "    </tr>\n",
       "  </tbody>\n",
       "</table>\n",
       "</div>"
      ],
      "text/plain": [
       "   sepal_length  sepal_width  petal_length  petal_width  target\n",
       "0           5.1          3.5           1.4          0.2       0\n",
       "1           4.9          3.0           1.4          0.2       0\n",
       "2           4.7          3.2           1.3          0.2       0\n",
       "3           4.6          3.1           1.5          0.2       0\n",
       "4           5.0          3.6           1.4          0.2       0"
      ]
     },
     "execution_count": 66,
     "metadata": {},
     "output_type": "execute_result"
    }
   ],
   "source": [
    "df.head()"
   ]
  },
  {
   "cell_type": "markdown",
   "metadata": {},
   "source": [
    "#### Now grab the features and separate them from the target\n",
    "\n",
    "target y = just 'target'  \n",
    "features X = 'everything but 'target''"
   ]
  },
  {
   "cell_type": "code",
   "execution_count": 71,
   "metadata": {},
   "outputs": [],
   "source": [
    "y = df['target']\n",
    "# remember to use axis=1 for columnsa\n",
    "X = df.drop('target',axis=1)"
   ]
  },
  {
   "cell_type": "code",
   "execution_count": 69,
   "metadata": {},
   "outputs": [
    {
     "data": {
      "text/plain": [
       "0    0\n",
       "1    0\n",
       "2    0\n",
       "3    0\n",
       "4    0\n",
       "Name: target, dtype: int64"
      ]
     },
     "execution_count": 69,
     "metadata": {},
     "output_type": "execute_result"
    }
   ],
   "source": [
    "# Y is just the actual classes. \n",
    "# One problem is that they're currently sorted in order, we'll shuffle during training\n",
    "y.head()"
   ]
  },
  {
   "cell_type": "code",
   "execution_count": 72,
   "metadata": {},
   "outputs": [
    {
     "data": {
      "text/html": [
       "<div>\n",
       "<style scoped>\n",
       "    .dataframe tbody tr th:only-of-type {\n",
       "        vertical-align: middle;\n",
       "    }\n",
       "\n",
       "    .dataframe tbody tr th {\n",
       "        vertical-align: top;\n",
       "    }\n",
       "\n",
       "    .dataframe thead th {\n",
       "        text-align: right;\n",
       "    }\n",
       "</style>\n",
       "<table border=\"1\" class=\"dataframe\">\n",
       "  <thead>\n",
       "    <tr style=\"text-align: right;\">\n",
       "      <th></th>\n",
       "      <th>sepal_length</th>\n",
       "      <th>sepal_width</th>\n",
       "      <th>petal_length</th>\n",
       "      <th>petal_width</th>\n",
       "    </tr>\n",
       "  </thead>\n",
       "  <tbody>\n",
       "    <tr>\n",
       "      <th>0</th>\n",
       "      <td>5.1</td>\n",
       "      <td>3.5</td>\n",
       "      <td>1.4</td>\n",
       "      <td>0.2</td>\n",
       "    </tr>\n",
       "    <tr>\n",
       "      <th>1</th>\n",
       "      <td>4.9</td>\n",
       "      <td>3.0</td>\n",
       "      <td>1.4</td>\n",
       "      <td>0.2</td>\n",
       "    </tr>\n",
       "    <tr>\n",
       "      <th>2</th>\n",
       "      <td>4.7</td>\n",
       "      <td>3.2</td>\n",
       "      <td>1.3</td>\n",
       "      <td>0.2</td>\n",
       "    </tr>\n",
       "    <tr>\n",
       "      <th>3</th>\n",
       "      <td>4.6</td>\n",
       "      <td>3.1</td>\n",
       "      <td>1.5</td>\n",
       "      <td>0.2</td>\n",
       "    </tr>\n",
       "    <tr>\n",
       "      <th>4</th>\n",
       "      <td>5.0</td>\n",
       "      <td>3.6</td>\n",
       "      <td>1.4</td>\n",
       "      <td>0.2</td>\n",
       "    </tr>\n",
       "  </tbody>\n",
       "</table>\n",
       "</div>"
      ],
      "text/plain": [
       "   sepal_length  sepal_width  petal_length  petal_width\n",
       "0           5.1          3.5           1.4          0.2\n",
       "1           4.9          3.0           1.4          0.2\n",
       "2           4.7          3.2           1.3          0.2\n",
       "3           4.6          3.1           1.5          0.2\n",
       "4           5.0          3.6           1.4          0.2"
      ]
     },
     "execution_count": 72,
     "metadata": {},
     "output_type": "execute_result"
    }
   ],
   "source": [
    "X.head()"
   ]
  },
  {
   "cell_type": "markdown",
   "metadata": {},
   "source": [
    "**Train/Test Split**"
   ]
  },
  {
   "cell_type": "code",
   "execution_count": 73,
   "metadata": {},
   "outputs": [],
   "source": [
    "# ML imports\n",
    "import sklearn\n",
    "from sklearn import metrics\n",
    "# Linear Regression \n",
    "from sklearn.model_selection import train_test_split\n",
    "from sklearn.linear_model import LinearRegression\n",
    "# Logistic Regression\n",
    "#\n",
    "from sklearn.metrics import classification_report\n",
    "from sklearn.metrics import confusion_matrix"
   ]
  },
  {
   "cell_type": "code",
   "execution_count": 75,
   "metadata": {},
   "outputs": [],
   "source": [
    "# The Train/Test Split\n",
    "X_train, X_test, y_train, y_test = train_test_split(X, y, test_size=0.3, random_state=42)"
   ]
  },
  {
   "cell_type": "markdown",
   "metadata": {},
   "source": [
    "**Using TensorFlow**\n",
    "\n",
    "**Create Feature Columns** using tf.feature_column.numeric_column"
   ]
  },
  {
   "cell_type": "code",
   "execution_count": 76,
   "metadata": {},
   "outputs": [
    {
     "data": {
      "text/plain": [
       "Index(['sepal_length', 'sepal_width', 'petal_length', 'petal_width'], dtype='object')"
      ]
     },
     "execution_count": 76,
     "metadata": {},
     "output_type": "execute_result"
    }
   ],
   "source": [
    "X.columns"
   ]
  },
  {
   "cell_type": "code",
   "execution_count": 78,
   "metadata": {},
   "outputs": [],
   "source": [
    "feat_cols = []\n",
    "for col in X.columns:\n",
    "    feat_cols.append(tf.feature_column.numeric_column(col))"
   ]
  },
  {
   "cell_type": "code",
   "execution_count": 79,
   "metadata": {},
   "outputs": [
    {
     "data": {
      "text/plain": [
       "[NumericColumn(key='sepal_length', shape=(1,), default_value=None, dtype=tf.float32, normalizer_fn=None),\n",
       " NumericColumn(key='sepal_width', shape=(1,), default_value=None, dtype=tf.float32, normalizer_fn=None),\n",
       " NumericColumn(key='petal_length', shape=(1,), default_value=None, dtype=tf.float32, normalizer_fn=None),\n",
       " NumericColumn(key='petal_width', shape=(1,), default_value=None, dtype=tf.float32, normalizer_fn=None)]"
      ]
     },
     "execution_count": 79,
     "metadata": {},
     "output_type": "execute_result"
    }
   ],
   "source": [
    "feat_cols"
   ]
  },
  {
   "cell_type": "markdown",
   "metadata": {},
   "source": [
    "**Now create an Input Function**\n",
    "\n",
    "need 2 - one for training and one for evaluation\n",
    "\n",
    "\n",
    "A note about batch_size - play around with the value - too large a size will produce errors.  \n",
    "Errors in TensorFlow often present themselves as *Predictions that are empty or None*\n",
    "\n",
    "An *Epoch* is when you've gone through your training data one time. So num_epochs=5 sets a limit - after the data has been trained 5 times, it's complete. (even if it's hit the number of steps indicated in the estimator). We'll work with steps later on."
   ]
  },
  {
   "cell_type": "code",
   "execution_count": 82,
   "metadata": {},
   "outputs": [],
   "source": [
    "# Create The Input Function\n",
    "# two main types of inputs - one for numpy and one for pandas\n",
    "# 'x', 'y=None', 'batch_size=128', 'num_epochs=1', 'shuffle=None',et al\n",
    "# we want shuffle=True to compensate for the earlier Classes being sorted in the dataframe\n",
    "# Train/Test Split already does a shuffle by default, also\n",
    "input_func = tf.estimator.inputs.pandas_input_fn(x=X_train,y=y_train,batch_size=10,num_epochs=5,shuffle=True)"
   ]
  },
  {
   "cell_type": "markdown",
   "metadata": {},
   "source": [
    "**create the classifier**\n",
    "\n",
    "\n",
    "Output will look something like this:\n",
    "\n",
    "INFO:tensorflow:Using default config.\n",
    "WARNING:tensorflow:Using temporary folder as model directory: /var/folders/y7/npvsnnsx4fb77q7hsmzg0rn80000gn/T/tmpq97tjf54\n",
    "INFO:tensorflow:Using config: {'_model_dir': '/var/folders/y7/npvsnnsx4fb77q7hsmzg0rn80000gn/T/tmpq97tjf54', '_tf_random_seed': None, '_save_summary_steps': 100, '_save_checkpoints_steps': None, '_save_checkpoints_secs': 600, '_session_config': allow_soft_placement: true\n",
    "graph_options {\n",
    "  rewrite_options {\n",
    "    meta_optimizer_iterations: ONE\n",
    "  }\n",
    "}\n",
    ", '_keep_checkpoint_max': 5, '_keep_checkpoint_every_n_hours': 10000, '_log_step_count_steps': 100, '_train_distribute': None, '_device_fn': None, '_protocol': None, '_eval_distribute': None, '_experimental_distribute': None, '_service': None, '_cluster_spec': <tensorflow.python.training.server_lib.ClusterSpec object at 0x136ea0ba8>, '_task_type': 'worker', '_task_id': 0, '_global_id_in_cluster': 0, '_master': '', '_evaluation_master': '', '_is_chief': True, '_num_ps_replicas': 0, '_num_worker_replicas': 1}"
   ]
  },
  {
   "cell_type": "code",
   "execution_count": 85,
   "metadata": {},
   "outputs": [
    {
     "name": "stdout",
     "output_type": "stream",
     "text": [
      "INFO:tensorflow:Using default config.\n",
      "WARNING:tensorflow:Using temporary folder as model directory: /var/folders/y7/npvsnnsx4fb77q7hsmzg0rn80000gn/T/tmpq97tjf54\n",
      "INFO:tensorflow:Using config: {'_model_dir': '/var/folders/y7/npvsnnsx4fb77q7hsmzg0rn80000gn/T/tmpq97tjf54', '_tf_random_seed': None, '_save_summary_steps': 100, '_save_checkpoints_steps': None, '_save_checkpoints_secs': 600, '_session_config': allow_soft_placement: true\n",
      "graph_options {\n",
      "  rewrite_options {\n",
      "    meta_optimizer_iterations: ONE\n",
      "  }\n",
      "}\n",
      ", '_keep_checkpoint_max': 5, '_keep_checkpoint_every_n_hours': 10000, '_log_step_count_steps': 100, '_train_distribute': None, '_device_fn': None, '_protocol': None, '_eval_distribute': None, '_experimental_distribute': None, '_service': None, '_cluster_spec': <tensorflow.python.training.server_lib.ClusterSpec object at 0x136ea0ba8>, '_task_type': 'worker', '_task_id': 0, '_global_id_in_cluster': 0, '_master': '', '_evaluation_master': '', '_is_chief': True, '_num_ps_replicas': 0, '_num_worker_replicas': 1}\n"
     ]
    }
   ],
   "source": [
    "# Use the Deep Neural Network Classifier/Estimator\n",
    "# Hidden Layers\n",
    "# hidden_units takes a list where every number is a layer and every are the number of neurons in that layer\n",
    "# so [10,20,10] means 3x layers, first layer with 10 neurons, 2nd layer with 20, etc\n",
    "# input layer->hidden layers->output layer\n",
    "# n_classes is 3 (species of irises)\n",
    "classifier = tf.estimator.DNNClassifier(hidden_units=[10,20,10], n_classes=3, feature_columns=feat_cols)"
   ]
  },
  {
   "cell_type": "markdown",
   "metadata": {},
   "source": [
    "**Now train the Estimator/Classifier**\n",
    "\n",
    "This step is very similar to running .fit() on a scikit-learn model.\n",
    "\n",
    "This is where we drop in the input function we created.\n",
    "\n",
    "classifier.train(\n",
    "    ['input_fn', 'hooks=None', 'steps=None', 'max_steps=None', 'saving_listeners=None'],\n",
    "    \n",
    "----\n",
    "\n",
    "When this is run you'll actually see the training occur. Something like: \n",
    "\n",
    "WARNING:tensorflow:From /usr/local/lib/python3.7/site-packages/tensorflow_estimator/python/estimator/inputs/queues/feeding_queue_runner.py:62: QueueRunner.__init__ (from tensorflow.python.training.queue_runner_impl) is deprecated and will be removed in a future version.\n",
    "Instructions for updating:\n",
    "To construct input pipelines, use the `tf.data` module.\n",
    "WARNING:tensorflow:From /usr/local/lib/python3.7/site-packages/tensorflow_estimator/python/estimator/inputs/queues/feeding_functions.py:500: add_queue_runner (from tensorflow.python.training.queue_runner_impl) is deprecated and will be removed in a future version.\n",
    "Instructions for updating:\n",
    "To construct input pipelines, use the `tf.data` module.\n",
    "INFO:tensorflow:Calling model_fn.\n",
    "WARNING:tensorflow:From /usr/local/lib/python3.7/site-packages/tensorflow/python/feature_column/feature_column_v2.py:2703: to_float (from tensorflow.python.ops.math_ops) is deprecated and will be removed in a future version.\n",
    "Instructions for updating:\n",
    "Use tf.cast instead.\n",
    "INFO:tensorflow:Done calling model_fn.\n",
    "INFO:tensorflow:Create CheckpointSaverHook.\n",
    "INFO:tensorflow:Graph was finalized.\n",
    "INFO:tensorflow:Running local_init_op.\n",
    "INFO:tensorflow:Done running local_init_op.\n",
    "WARNING:tensorflow:From /usr/local/lib/python3.7/site-packages/tensorflow/python/training/monitored_session.py:809: start_queue_runners (from tensorflow.python.training.queue_runner_impl) is deprecated and will be removed in a future version.\n",
    "Instructions for updating:\n",
    "To construct input pipelines, use the `tf.data` module.\n",
    "INFO:tensorflow:Saving checkpoints for 0 into /var/folders/y7/npvsnnsx4fb77q7hsmzg0rn80000gn/T/tmpq97tjf54/model.ckpt.\n",
    "INFO:tensorflow:loss = 12.018873, step = 1\n",
    "INFO:tensorflow:Saving checkpoints for 50 into /var/folders/y7/npvsnnsx4fb77q7hsmzg0rn80000gn/T/tmpq97tjf54/model.ckpt.\n",
    "INFO:tensorflow:Loss for final step: 2.7068002."
   ]
  },
  {
   "cell_type": "code",
   "execution_count": 86,
   "metadata": {},
   "outputs": [
    {
     "name": "stdout",
     "output_type": "stream",
     "text": [
      "WARNING:tensorflow:From /usr/local/lib/python3.7/site-packages/tensorflow_estimator/python/estimator/inputs/queues/feeding_queue_runner.py:62: QueueRunner.__init__ (from tensorflow.python.training.queue_runner_impl) is deprecated and will be removed in a future version.\n",
      "Instructions for updating:\n",
      "To construct input pipelines, use the `tf.data` module.\n",
      "WARNING:tensorflow:From /usr/local/lib/python3.7/site-packages/tensorflow_estimator/python/estimator/inputs/queues/feeding_functions.py:500: add_queue_runner (from tensorflow.python.training.queue_runner_impl) is deprecated and will be removed in a future version.\n",
      "Instructions for updating:\n",
      "To construct input pipelines, use the `tf.data` module.\n",
      "INFO:tensorflow:Calling model_fn.\n",
      "WARNING:tensorflow:From /usr/local/lib/python3.7/site-packages/tensorflow/python/feature_column/feature_column_v2.py:2703: to_float (from tensorflow.python.ops.math_ops) is deprecated and will be removed in a future version.\n",
      "Instructions for updating:\n",
      "Use tf.cast instead.\n",
      "INFO:tensorflow:Done calling model_fn.\n",
      "INFO:tensorflow:Create CheckpointSaverHook.\n",
      "INFO:tensorflow:Graph was finalized.\n",
      "INFO:tensorflow:Running local_init_op.\n",
      "INFO:tensorflow:Done running local_init_op.\n",
      "WARNING:tensorflow:From /usr/local/lib/python3.7/site-packages/tensorflow/python/training/monitored_session.py:809: start_queue_runners (from tensorflow.python.training.queue_runner_impl) is deprecated and will be removed in a future version.\n",
      "Instructions for updating:\n",
      "To construct input pipelines, use the `tf.data` module.\n",
      "INFO:tensorflow:Saving checkpoints for 0 into /var/folders/y7/npvsnnsx4fb77q7hsmzg0rn80000gn/T/tmpq97tjf54/model.ckpt.\n",
      "INFO:tensorflow:loss = 12.018873, step = 1\n",
      "INFO:tensorflow:Saving checkpoints for 50 into /var/folders/y7/npvsnnsx4fb77q7hsmzg0rn80000gn/T/tmpq97tjf54/model.ckpt.\n",
      "INFO:tensorflow:Loss for final step: 2.7068002.\n"
     ]
    },
    {
     "data": {
      "text/plain": [
       "<tensorflow_estimator.python.estimator.canned.dnn.DNNClassifier at 0x136e82ba8>"
      ]
     },
     "execution_count": 86,
     "metadata": {},
     "output_type": "execute_result"
    }
   ],
   "source": [
    "classifier.train(input_fn=input_func,steps=50)"
   ]
  },
  {
   "cell_type": "markdown",
   "metadata": {},
   "source": [
    " **Now lets evaluate how well it performed**\n",
    " \n",
    " To do that we need to create another input function, but this one will pass test data"
   ]
  },
  {
   "cell_type": "code",
   "execution_count": 87,
   "metadata": {},
   "outputs": [],
   "source": [
    "# Prediction Function\n",
    "# No need to set y because that's what we're predicting, shuffle=False because there's no need to shuffle again\n",
    "pred_fn = tf.estimator.inputs.pandas_input_fn(x=X_test,batch_size=len(X_test),shuffle=False)"
   ]
  },
  {
   "cell_type": "markdown",
   "metadata": {},
   "source": [
    "**now create predictions**"
   ]
  },
  {
   "cell_type": "code",
   "execution_count": 88,
   "metadata": {},
   "outputs": [
    {
     "name": "stdout",
     "output_type": "stream",
     "text": [
      "INFO:tensorflow:Calling model_fn.\n",
      "INFO:tensorflow:Done calling model_fn.\n",
      "INFO:tensorflow:Graph was finalized.\n",
      "WARNING:tensorflow:From /usr/local/lib/python3.7/site-packages/tensorflow/python/training/saver.py:1266: checkpoint_exists (from tensorflow.python.training.checkpoint_management) is deprecated and will be removed in a future version.\n",
      "Instructions for updating:\n",
      "Use standard file APIs to check for files with this prefix.\n",
      "INFO:tensorflow:Restoring parameters from /var/folders/y7/npvsnnsx4fb77q7hsmzg0rn80000gn/T/tmpq97tjf54/model.ckpt-50\n",
      "INFO:tensorflow:Running local_init_op.\n",
      "INFO:tensorflow:Done running local_init_op.\n"
     ]
    },
    {
     "data": {
      "text/plain": [
       "[{'logits': array([-3.9265225 , -0.10750813, -1.036944  ], dtype=float32),\n",
       "  'probabilities': array([0.01549307, 0.7058529 , 0.27865404], dtype=float32),\n",
       "  'class_ids': array([1]),\n",
       "  'classes': array([b'1'], dtype=object)},\n",
       " {'logits': array([ 0.46872863, -3.595632  , -6.1982126 ], dtype=float32),\n",
       "  'probabilities': array([0.98188776, 0.01686291, 0.00124924], dtype=float32),\n",
       "  'class_ids': array([0]),\n",
       "  'classes': array([b'0'], dtype=object)},\n",
       " {'logits': array([-5.788761  , -0.6769973 ,  0.66376007], dtype=float32),\n",
       "  'probabilities': array([0.00124803, 0.20712672, 0.79162526], dtype=float32),\n",
       "  'class_ids': array([2]),\n",
       "  'classes': array([b'2'], dtype=object)},\n",
       " {'logits': array([-3.8497596 , -0.31240422, -0.78255475], dtype=float32),\n",
       "  'probabilities': array([0.01758778, 0.60459554, 0.3778167 ], dtype=float32),\n",
       "  'class_ids': array([1]),\n",
       "  'classes': array([b'1'], dtype=object)},\n",
       " {'logits': array([-4.140165  , -0.05266667, -1.1967084 ], dtype=float32),\n",
       "  'probabilities': array([0.01256724, 0.7488896 , 0.23854306], dtype=float32),\n",
       "  'class_ids': array([1]),\n",
       "  'classes': array([b'1'], dtype=object)},\n",
       " {'logits': array([ 0.40205067, -3.2575774 , -5.68035   ], dtype=float32),\n",
       "  'probabilities': array([0.97273916, 0.02504033, 0.00222046], dtype=float32),\n",
       "  'class_ids': array([0]),\n",
       "  'classes': array([b'0'], dtype=object)},\n",
       " {'logits': array([-2.7860243 , -0.45013428, -1.7539656 ], dtype=float32),\n",
       "  'probabilities': array([0.07069387, 0.7308798 , 0.19842628], dtype=float32),\n",
       "  'class_ids': array([1]),\n",
       "  'classes': array([b'1'], dtype=object)},\n",
       " {'logits': array([-4.5574107, -0.7007626,  0.0602162], dtype=float32),\n",
       "  'probabilities': array([0.00668628, 0.31630465, 0.67700905], dtype=float32),\n",
       "  'class_ids': array([2]),\n",
       "  'classes': array([b'2'], dtype=object)},\n",
       " {'logits': array([-4.0261245 , -0.10425801, -0.4869048 ], dtype=float32),\n",
       "  'probabilities': array([0.01163675, 0.58759314, 0.4007701 ], dtype=float32),\n",
       "  'class_ids': array([1]),\n",
       "  'classes': array([b'1'], dtype=object)},\n",
       " {'logits': array([-3.3319352 , -0.08257712, -1.4739265 ], dtype=float32),\n",
       "  'probabilities': array([0.03013433, 0.77667576, 0.19318987], dtype=float32),\n",
       "  'class_ids': array([1]),\n",
       "  'classes': array([b'1'], dtype=object)},\n",
       " {'logits': array([-4.3958316 , -0.64701307, -0.12146821], dtype=float32),\n",
       "  'probabilities': array([0.00867263, 0.3683342 , 0.6229932 ], dtype=float32),\n",
       "  'class_ids': array([2]),\n",
       "  'classes': array([b'2'], dtype=object)},\n",
       " {'logits': array([ 0.30254868, -2.9430478 , -5.3279033 ], dtype=float32),\n",
       "  'probabilities': array([0.9592029 , 0.03735647, 0.00344062], dtype=float32),\n",
       "  'class_ids': array([0]),\n",
       "  'classes': array([b'0'], dtype=object)},\n",
       " {'logits': array([ 0.5137853, -3.7047157, -6.2840204], dtype=float32),\n",
       "  'probabilities': array([0.9844099 , 0.0144912 , 0.00109882], dtype=float32),\n",
       "  'class_ids': array([0]),\n",
       "  'classes': array([b'0'], dtype=object)},\n",
       " {'logits': array([ 0.2981241, -2.96702  , -5.3962345], dtype=float32),\n",
       "  'probabilities': array([0.96010166, 0.03666766, 0.00323064], dtype=float32),\n",
       "  'class_ids': array([0]),\n",
       "  'classes': array([b'0'], dtype=object)},\n",
       " {'logits': array([ 0.5856291, -3.669657 , -5.9583287], dtype=float32),\n",
       "  'probabilities': array([0.9846127 , 0.0139707 , 0.00141664], dtype=float32),\n",
       "  'class_ids': array([0]),\n",
       "  'classes': array([b'0'], dtype=object)},\n",
       " {'logits': array([-3.9526067, -0.4193182, -0.9532503], dtype=float32),\n",
       "  'probabilities': array([0.01808024, 0.6190019 , 0.36291778], dtype=float32),\n",
       "  'class_ids': array([1]),\n",
       "  'classes': array([b'1'], dtype=object)},\n",
       " {'logits': array([-4.953636  , -0.86790395,  0.8515935 ], dtype=float32),\n",
       "  'probabilities': array([0.00254766, 0.15154882, 0.8459035 ], dtype=float32),\n",
       "  'class_ids': array([2]),\n",
       "  'classes': array([b'2'], dtype=object)},\n",
       " {'logits': array([-3.346685  , -0.01350815, -1.3095789 ], dtype=float32),\n",
       "  'probabilities': array([0.0272512 , 0.76377606, 0.20897275], dtype=float32),\n",
       "  'class_ids': array([1]),\n",
       "  'classes': array([b'1'], dtype=object)},\n",
       " {'logits': array([-3.7739573 , -0.24967694, -0.7722442 ], dtype=float32),\n",
       "  'probabilities': array([0.01816553, 0.61634445, 0.36548993], dtype=float32),\n",
       "  'class_ids': array([1]),\n",
       "  'classes': array([b'1'], dtype=object)},\n",
       " {'logits': array([-4.83485   , -0.8214182 ,  0.80936885], dtype=float32),\n",
       "  'probabilities': array([0.00294995, 0.1632396 , 0.8338105 ], dtype=float32),\n",
       "  'class_ids': array([2]),\n",
       "  'classes': array([b'2'], dtype=object)},\n",
       " {'logits': array([ 0.3067715, -2.868854 , -5.1249924], dtype=float32),\n",
       "  'probabilities': array([0.95589197, 0.03992567, 0.00418238], dtype=float32),\n",
       "  'class_ids': array([0]),\n",
       "  'classes': array([b'0'], dtype=object)},\n",
       " {'logits': array([-4.196389  , -0.5582368 , -0.14872518], dtype=float32),\n",
       "  'probabilities': array([0.01038583, 0.394885  , 0.5947292 ], dtype=float32),\n",
       "  'class_ids': array([2]),\n",
       "  'classes': array([b'2'], dtype=object)},\n",
       " {'logits': array([ 0.3564005, -3.0515926, -5.288091 ], dtype=float32),\n",
       "  'probabilities': array([0.96465087, 0.03193726, 0.00341192], dtype=float32),\n",
       "  'class_ids': array([0]),\n",
       "  'classes': array([b'0'], dtype=object)},\n",
       " {'logits': array([-4.8251085, -0.7600454,  0.7512896], dtype=float32),\n",
       "  'probabilities': array([0.00309227, 0.18018211, 0.81672555], dtype=float32),\n",
       "  'class_ids': array([2]),\n",
       "  'classes': array([b'2'], dtype=object)},\n",
       " {'logits': array([-5.3036604 , -0.5954889 , -0.41091067], dtype=float32),\n",
       "  'probabilities': array([0.00407882, 0.45213425, 0.5437869 ], dtype=float32),\n",
       "  'class_ids': array([2]),\n",
       "  'classes': array([b'2'], dtype=object)},\n",
       " {'logits': array([-4.620574  , -0.7511758 ,  0.36317438], dtype=float32),\n",
       "  'probabilities': array([0.00512993, 0.24579334, 0.74907666], dtype=float32),\n",
       "  'class_ids': array([2]),\n",
       "  'classes': array([b'2'], dtype=object)},\n",
       " {'logits': array([-4.9688587 , -0.46055686,  0.46695518], dtype=float32),\n",
       "  'probabilities': array([0.00311287, 0.28254747, 0.7143397 ], dtype=float32),\n",
       "  'class_ids': array([2]),\n",
       "  'classes': array([b'2'], dtype=object)},\n",
       " {'logits': array([-5.0546613, -0.8797369,  0.7788328], dtype=float32),\n",
       "  'probabilities': array([0.00245348, 0.15956165, 0.83798486], dtype=float32),\n",
       "  'class_ids': array([2]),\n",
       "  'classes': array([b'2'], dtype=object)},\n",
       " {'logits': array([ 0.3077036, -2.8421607, -5.0868344], dtype=float32),\n",
       "  'probabilities': array([0.9547458 , 0.04091844, 0.0043358 ], dtype=float32),\n",
       "  'class_ids': array([0]),\n",
       "  'classes': array([b'0'], dtype=object)},\n",
       " {'logits': array([ 0.24932748, -2.7829745 , -5.102934  ], dtype=float32),\n",
       "  'probabilities': array([0.94972   , 0.04578083, 0.00449923], dtype=float32),\n",
       "  'class_ids': array([0]),\n",
       "  'classes': array([b'0'], dtype=object)},\n",
       " {'logits': array([ 0.68479186, -3.8219755 , -5.9529676 ], dtype=float32),\n",
       "  'probabilities': array([0.9878064 , 0.01089953, 0.00129399], dtype=float32),\n",
       "  'class_ids': array([0]),\n",
       "  'classes': array([b'0'], dtype=object)},\n",
       " {'logits': array([ 0.79917085, -4.3840823 , -6.8019342 ], dtype=float32),\n",
       "  'probabilities': array([9.9392748e-01, 5.5756615e-03, 4.9686298e-04], dtype=float32),\n",
       "  'class_ids': array([0]),\n",
       "  'classes': array([b'0'], dtype=object)},\n",
       " {'logits': array([-3.7340984 , -0.13442934, -1.7006155 ], dtype=float32),\n",
       "  'probabilities': array([0.0221108 , 0.80894834, 0.16894089], dtype=float32),\n",
       "  'class_ids': array([1]),\n",
       "  'classes': array([b'1'], dtype=object)},\n",
       " {'logits': array([ 0.39234933, -3.1095974 , -5.386367  ], dtype=float32),\n",
       "  'probabilities': array([0.9678375 , 0.02916932, 0.00299322], dtype=float32),\n",
       "  'class_ids': array([0]),\n",
       "  'classes': array([b'0'], dtype=object)},\n",
       " {'logits': array([ 0.4536601, -3.1222053, -5.2025385], dtype=float32),\n",
       "  'probabilities': array([0.9694742 , 0.02713674, 0.00338907], dtype=float32),\n",
       "  'class_ids': array([0]),\n",
       "  'classes': array([b'0'], dtype=object)},\n",
       " {'logits': array([-4.4259453 , -0.47220904,  0.24757844], dtype=float32),\n",
       "  'probabilities': array([0.00624203, 0.32539588, 0.668362  ], dtype=float32),\n",
       "  'class_ids': array([2]),\n",
       "  'classes': array([b'2'], dtype=object)},\n",
       " {'logits': array([-3.782017  , -0.31016165, -1.3044733 ], dtype=float32),\n",
       "  'probabilities': array([0.02216882, 0.7137568 , 0.26407436], dtype=float32),\n",
       "  'class_ids': array([1]),\n",
       "  'classes': array([b'1'], dtype=object)},\n",
       " {'logits': array([ 0.45092145, -3.4194493 , -5.869808  ], dtype=float32),\n",
       "  'probabilities': array([0.97785234, 0.02038884, 0.00175879], dtype=float32),\n",
       "  'class_ids': array([0]),\n",
       "  'classes': array([b'0'], dtype=object)},\n",
       " {'logits': array([ 0.5454296, -3.588065 , -5.9165874], dtype=float32),\n",
       "  'probabilities': array([0.9827156 , 0.01574977, 0.00153465], dtype=float32),\n",
       "  'class_ids': array([0]),\n",
       "  'classes': array([b'0'], dtype=object)},\n",
       " {'logits': array([ 0.6926353, -4.0815253, -6.5002737], dtype=float32),\n",
       "  'probabilities': array([9.908868e-01, 8.368209e-03, 7.450463e-04], dtype=float32),\n",
       "  'class_ids': array([0]),\n",
       "  'classes': array([b'0'], dtype=object)},\n",
       " {'logits': array([-4.386854  , -0.67182064,  0.585405  ], dtype=float32),\n",
       "  'probabilities': array([0.00536445, 0.22026388, 0.7743717 ], dtype=float32),\n",
       "  'class_ids': array([2]),\n",
       "  'classes': array([b'2'], dtype=object)},\n",
       " {'logits': array([-3.627778  , -0.60534585, -1.0408268 ], dtype=float32),\n",
       "  'probabilities': array([0.02871056, 0.58974916, 0.38154027], dtype=float32),\n",
       "  'class_ids': array([1]),\n",
       "  'classes': array([b'1'], dtype=object)},\n",
       " {'logits': array([-4.0264363 , -0.19220781, -1.2611809 ], dtype=float32),\n",
       "  'probabilities': array([0.01583761, 0.732612  , 0.25155038], dtype=float32),\n",
       "  'class_ids': array([1]),\n",
       "  'classes': array([b'1'], dtype=object)},\n",
       " {'logits': array([ 0.689535 , -3.9960709, -6.321866 ], dtype=float32),\n",
       "  'probabilities': array([9.8997283e-01, 9.1346186e-03, 8.9250453e-04], dtype=float32),\n",
       "  'class_ids': array([0]),\n",
       "  'classes': array([b'0'], dtype=object)},\n",
       " {'logits': array([ 0.52303684, -3.6826556 , -6.2032504 ], dtype=float32),\n",
       "  'probabilities': array([0.98414594, 0.01467407, 0.00117997], dtype=float32),\n",
       "  'class_ids': array([0]),\n",
       "  'classes': array([b'0'], dtype=object)}]"
      ]
     },
     "execution_count": 88,
     "metadata": {},
     "output_type": "execute_result"
    }
   ],
   "source": [
    "# Classifier.predict is a generator, not a static list. You want to cast it to a list \n",
    "# if you aren't going to iterate through the predictions\n",
    "list(classifier.predict(input_fn=pred_fn))"
   ]
  },
  {
   "cell_type": "code",
   "execution_count": 89,
   "metadata": {},
   "outputs": [
    {
     "name": "stdout",
     "output_type": "stream",
     "text": [
      "INFO:tensorflow:Calling model_fn.\n",
      "INFO:tensorflow:Done calling model_fn.\n",
      "INFO:tensorflow:Graph was finalized.\n",
      "INFO:tensorflow:Restoring parameters from /var/folders/y7/npvsnnsx4fb77q7hsmzg0rn80000gn/T/tmpq97tjf54/model.ckpt-50\n",
      "INFO:tensorflow:Running local_init_op.\n",
      "INFO:tensorflow:Done running local_init_op.\n"
     ]
    }
   ],
   "source": [
    "predictions = list(classifier.predict(input_fn=pred_fn))"
   ]
  },
  {
   "cell_type": "code",
   "execution_count": 90,
   "metadata": {},
   "outputs": [
    {
     "data": {
      "text/plain": [
       "[{'logits': array([-3.9265225 , -0.10750813, -1.036944  ], dtype=float32),\n",
       "  'probabilities': array([0.01549307, 0.7058529 , 0.27865404], dtype=float32),\n",
       "  'class_ids': array([1]),\n",
       "  'classes': array([b'1'], dtype=object)},\n",
       " {'logits': array([ 0.46872863, -3.595632  , -6.1982126 ], dtype=float32),\n",
       "  'probabilities': array([0.98188776, 0.01686291, 0.00124924], dtype=float32),\n",
       "  'class_ids': array([0]),\n",
       "  'classes': array([b'0'], dtype=object)},\n",
       " {'logits': array([-5.788761  , -0.6769973 ,  0.66376007], dtype=float32),\n",
       "  'probabilities': array([0.00124803, 0.20712672, 0.79162526], dtype=float32),\n",
       "  'class_ids': array([2]),\n",
       "  'classes': array([b'2'], dtype=object)},\n",
       " {'logits': array([-3.8497596 , -0.31240422, -0.78255475], dtype=float32),\n",
       "  'probabilities': array([0.01758778, 0.60459554, 0.3778167 ], dtype=float32),\n",
       "  'class_ids': array([1]),\n",
       "  'classes': array([b'1'], dtype=object)},\n",
       " {'logits': array([-4.140165  , -0.05266667, -1.1967084 ], dtype=float32),\n",
       "  'probabilities': array([0.01256724, 0.7488896 , 0.23854306], dtype=float32),\n",
       "  'class_ids': array([1]),\n",
       "  'classes': array([b'1'], dtype=object)},\n",
       " {'logits': array([ 0.40205067, -3.2575774 , -5.68035   ], dtype=float32),\n",
       "  'probabilities': array([0.97273916, 0.02504033, 0.00222046], dtype=float32),\n",
       "  'class_ids': array([0]),\n",
       "  'classes': array([b'0'], dtype=object)},\n",
       " {'logits': array([-2.7860243 , -0.45013428, -1.7539656 ], dtype=float32),\n",
       "  'probabilities': array([0.07069387, 0.7308798 , 0.19842628], dtype=float32),\n",
       "  'class_ids': array([1]),\n",
       "  'classes': array([b'1'], dtype=object)},\n",
       " {'logits': array([-4.5574107, -0.7007626,  0.0602162], dtype=float32),\n",
       "  'probabilities': array([0.00668628, 0.31630465, 0.67700905], dtype=float32),\n",
       "  'class_ids': array([2]),\n",
       "  'classes': array([b'2'], dtype=object)},\n",
       " {'logits': array([-4.0261245 , -0.10425801, -0.4869048 ], dtype=float32),\n",
       "  'probabilities': array([0.01163675, 0.58759314, 0.4007701 ], dtype=float32),\n",
       "  'class_ids': array([1]),\n",
       "  'classes': array([b'1'], dtype=object)},\n",
       " {'logits': array([-3.3319352 , -0.08257712, -1.4739265 ], dtype=float32),\n",
       "  'probabilities': array([0.03013433, 0.77667576, 0.19318987], dtype=float32),\n",
       "  'class_ids': array([1]),\n",
       "  'classes': array([b'1'], dtype=object)},\n",
       " {'logits': array([-4.3958316 , -0.64701307, -0.12146821], dtype=float32),\n",
       "  'probabilities': array([0.00867263, 0.3683342 , 0.6229932 ], dtype=float32),\n",
       "  'class_ids': array([2]),\n",
       "  'classes': array([b'2'], dtype=object)},\n",
       " {'logits': array([ 0.30254868, -2.9430478 , -5.3279033 ], dtype=float32),\n",
       "  'probabilities': array([0.9592029 , 0.03735647, 0.00344062], dtype=float32),\n",
       "  'class_ids': array([0]),\n",
       "  'classes': array([b'0'], dtype=object)},\n",
       " {'logits': array([ 0.5137853, -3.7047157, -6.2840204], dtype=float32),\n",
       "  'probabilities': array([0.9844099 , 0.0144912 , 0.00109882], dtype=float32),\n",
       "  'class_ids': array([0]),\n",
       "  'classes': array([b'0'], dtype=object)},\n",
       " {'logits': array([ 0.2981241, -2.96702  , -5.3962345], dtype=float32),\n",
       "  'probabilities': array([0.96010166, 0.03666766, 0.00323064], dtype=float32),\n",
       "  'class_ids': array([0]),\n",
       "  'classes': array([b'0'], dtype=object)},\n",
       " {'logits': array([ 0.5856291, -3.669657 , -5.9583287], dtype=float32),\n",
       "  'probabilities': array([0.9846127 , 0.0139707 , 0.00141664], dtype=float32),\n",
       "  'class_ids': array([0]),\n",
       "  'classes': array([b'0'], dtype=object)},\n",
       " {'logits': array([-3.9526067, -0.4193182, -0.9532503], dtype=float32),\n",
       "  'probabilities': array([0.01808024, 0.6190019 , 0.36291778], dtype=float32),\n",
       "  'class_ids': array([1]),\n",
       "  'classes': array([b'1'], dtype=object)},\n",
       " {'logits': array([-4.953636  , -0.86790395,  0.8515935 ], dtype=float32),\n",
       "  'probabilities': array([0.00254766, 0.15154882, 0.8459035 ], dtype=float32),\n",
       "  'class_ids': array([2]),\n",
       "  'classes': array([b'2'], dtype=object)},\n",
       " {'logits': array([-3.346685  , -0.01350815, -1.3095789 ], dtype=float32),\n",
       "  'probabilities': array([0.0272512 , 0.76377606, 0.20897275], dtype=float32),\n",
       "  'class_ids': array([1]),\n",
       "  'classes': array([b'1'], dtype=object)},\n",
       " {'logits': array([-3.7739573 , -0.24967694, -0.7722442 ], dtype=float32),\n",
       "  'probabilities': array([0.01816553, 0.61634445, 0.36548993], dtype=float32),\n",
       "  'class_ids': array([1]),\n",
       "  'classes': array([b'1'], dtype=object)},\n",
       " {'logits': array([-4.83485   , -0.8214182 ,  0.80936885], dtype=float32),\n",
       "  'probabilities': array([0.00294995, 0.1632396 , 0.8338105 ], dtype=float32),\n",
       "  'class_ids': array([2]),\n",
       "  'classes': array([b'2'], dtype=object)},\n",
       " {'logits': array([ 0.3067715, -2.868854 , -5.1249924], dtype=float32),\n",
       "  'probabilities': array([0.95589197, 0.03992567, 0.00418238], dtype=float32),\n",
       "  'class_ids': array([0]),\n",
       "  'classes': array([b'0'], dtype=object)},\n",
       " {'logits': array([-4.196389  , -0.5582368 , -0.14872518], dtype=float32),\n",
       "  'probabilities': array([0.01038583, 0.394885  , 0.5947292 ], dtype=float32),\n",
       "  'class_ids': array([2]),\n",
       "  'classes': array([b'2'], dtype=object)},\n",
       " {'logits': array([ 0.3564005, -3.0515926, -5.288091 ], dtype=float32),\n",
       "  'probabilities': array([0.96465087, 0.03193726, 0.00341192], dtype=float32),\n",
       "  'class_ids': array([0]),\n",
       "  'classes': array([b'0'], dtype=object)},\n",
       " {'logits': array([-4.8251085, -0.7600454,  0.7512896], dtype=float32),\n",
       "  'probabilities': array([0.00309227, 0.18018211, 0.81672555], dtype=float32),\n",
       "  'class_ids': array([2]),\n",
       "  'classes': array([b'2'], dtype=object)},\n",
       " {'logits': array([-5.3036604 , -0.5954889 , -0.41091067], dtype=float32),\n",
       "  'probabilities': array([0.00407882, 0.45213425, 0.5437869 ], dtype=float32),\n",
       "  'class_ids': array([2]),\n",
       "  'classes': array([b'2'], dtype=object)},\n",
       " {'logits': array([-4.620574  , -0.7511758 ,  0.36317438], dtype=float32),\n",
       "  'probabilities': array([0.00512993, 0.24579334, 0.74907666], dtype=float32),\n",
       "  'class_ids': array([2]),\n",
       "  'classes': array([b'2'], dtype=object)},\n",
       " {'logits': array([-4.9688587 , -0.46055686,  0.46695518], dtype=float32),\n",
       "  'probabilities': array([0.00311287, 0.28254747, 0.7143397 ], dtype=float32),\n",
       "  'class_ids': array([2]),\n",
       "  'classes': array([b'2'], dtype=object)},\n",
       " {'logits': array([-5.0546613, -0.8797369,  0.7788328], dtype=float32),\n",
       "  'probabilities': array([0.00245348, 0.15956165, 0.83798486], dtype=float32),\n",
       "  'class_ids': array([2]),\n",
       "  'classes': array([b'2'], dtype=object)},\n",
       " {'logits': array([ 0.3077036, -2.8421607, -5.0868344], dtype=float32),\n",
       "  'probabilities': array([0.9547458 , 0.04091844, 0.0043358 ], dtype=float32),\n",
       "  'class_ids': array([0]),\n",
       "  'classes': array([b'0'], dtype=object)},\n",
       " {'logits': array([ 0.24932748, -2.7829745 , -5.102934  ], dtype=float32),\n",
       "  'probabilities': array([0.94972   , 0.04578083, 0.00449923], dtype=float32),\n",
       "  'class_ids': array([0]),\n",
       "  'classes': array([b'0'], dtype=object)},\n",
       " {'logits': array([ 0.68479186, -3.8219755 , -5.9529676 ], dtype=float32),\n",
       "  'probabilities': array([0.9878064 , 0.01089953, 0.00129399], dtype=float32),\n",
       "  'class_ids': array([0]),\n",
       "  'classes': array([b'0'], dtype=object)},\n",
       " {'logits': array([ 0.79917085, -4.3840823 , -6.8019342 ], dtype=float32),\n",
       "  'probabilities': array([9.9392748e-01, 5.5756615e-03, 4.9686298e-04], dtype=float32),\n",
       "  'class_ids': array([0]),\n",
       "  'classes': array([b'0'], dtype=object)},\n",
       " {'logits': array([-3.7340984 , -0.13442934, -1.7006155 ], dtype=float32),\n",
       "  'probabilities': array([0.0221108 , 0.80894834, 0.16894089], dtype=float32),\n",
       "  'class_ids': array([1]),\n",
       "  'classes': array([b'1'], dtype=object)},\n",
       " {'logits': array([ 0.39234933, -3.1095974 , -5.386367  ], dtype=float32),\n",
       "  'probabilities': array([0.9678375 , 0.02916932, 0.00299322], dtype=float32),\n",
       "  'class_ids': array([0]),\n",
       "  'classes': array([b'0'], dtype=object)},\n",
       " {'logits': array([ 0.4536601, -3.1222053, -5.2025385], dtype=float32),\n",
       "  'probabilities': array([0.9694742 , 0.02713674, 0.00338907], dtype=float32),\n",
       "  'class_ids': array([0]),\n",
       "  'classes': array([b'0'], dtype=object)},\n",
       " {'logits': array([-4.4259453 , -0.47220904,  0.24757844], dtype=float32),\n",
       "  'probabilities': array([0.00624203, 0.32539588, 0.668362  ], dtype=float32),\n",
       "  'class_ids': array([2]),\n",
       "  'classes': array([b'2'], dtype=object)},\n",
       " {'logits': array([-3.782017  , -0.31016165, -1.3044733 ], dtype=float32),\n",
       "  'probabilities': array([0.02216882, 0.7137568 , 0.26407436], dtype=float32),\n",
       "  'class_ids': array([1]),\n",
       "  'classes': array([b'1'], dtype=object)},\n",
       " {'logits': array([ 0.45092145, -3.4194493 , -5.869808  ], dtype=float32),\n",
       "  'probabilities': array([0.97785234, 0.02038884, 0.00175879], dtype=float32),\n",
       "  'class_ids': array([0]),\n",
       "  'classes': array([b'0'], dtype=object)},\n",
       " {'logits': array([ 0.5454296, -3.588065 , -5.9165874], dtype=float32),\n",
       "  'probabilities': array([0.9827156 , 0.01574977, 0.00153465], dtype=float32),\n",
       "  'class_ids': array([0]),\n",
       "  'classes': array([b'0'], dtype=object)},\n",
       " {'logits': array([ 0.6926353, -4.0815253, -6.5002737], dtype=float32),\n",
       "  'probabilities': array([9.908868e-01, 8.368209e-03, 7.450463e-04], dtype=float32),\n",
       "  'class_ids': array([0]),\n",
       "  'classes': array([b'0'], dtype=object)},\n",
       " {'logits': array([-4.386854  , -0.67182064,  0.585405  ], dtype=float32),\n",
       "  'probabilities': array([0.00536445, 0.22026388, 0.7743717 ], dtype=float32),\n",
       "  'class_ids': array([2]),\n",
       "  'classes': array([b'2'], dtype=object)},\n",
       " {'logits': array([-3.627778  , -0.60534585, -1.0408268 ], dtype=float32),\n",
       "  'probabilities': array([0.02871056, 0.58974916, 0.38154027], dtype=float32),\n",
       "  'class_ids': array([1]),\n",
       "  'classes': array([b'1'], dtype=object)},\n",
       " {'logits': array([-4.0264363 , -0.19220781, -1.2611809 ], dtype=float32),\n",
       "  'probabilities': array([0.01583761, 0.732612  , 0.25155038], dtype=float32),\n",
       "  'class_ids': array([1]),\n",
       "  'classes': array([b'1'], dtype=object)},\n",
       " {'logits': array([ 0.689535 , -3.9960709, -6.321866 ], dtype=float32),\n",
       "  'probabilities': array([9.8997283e-01, 9.1346186e-03, 8.9250453e-04], dtype=float32),\n",
       "  'class_ids': array([0]),\n",
       "  'classes': array([b'0'], dtype=object)},\n",
       " {'logits': array([ 0.52303684, -3.6826556 , -6.2032504 ], dtype=float32),\n",
       "  'probabilities': array([0.98414594, 0.01467407, 0.00117997], dtype=float32),\n",
       "  'class_ids': array([0]),\n",
       "  'classes': array([b'0'], dtype=object)}]"
      ]
     },
     "execution_count": 90,
     "metadata": {},
     "output_type": "execute_result"
    }
   ],
   "source": [
    "# Returns a list of dictionaries \n",
    "predictions"
   ]
  },
  {
   "cell_type": "markdown",
   "metadata": {},
   "source": [
    "#### Interpreting the output:\n",
    "\n",
    "This object was predicted to be in Class 1:   \n",
    "'class_ids': array([1])\n",
    "\n",
    "This object had a %0.01549307 of being Class A, %0.7058529 of being Class B, et al. %0.7058529 was the highest:    \n",
    "'probabilities': array([0.01549307, 0.7058529 , 0.27865404]\n",
    "\n",
    "\n",
    "Raw output:  \n",
    "[{'logits': array([-3.9265225 , -0.10750813, -1.036944  ], dtype=float32),\n",
    "  'probabilities': array([0.01549307, 0.7058529 , 0.27865404], dtype=float32),\n",
    "  'class_ids': array([1]),\n",
    "  'classes': array([b'1'], dtype=object)},\n",
    "  \n",
    "\n",
    "### Now to evaluating the predictions"
   ]
  },
  {
   "cell_type": "code",
   "execution_count": 91,
   "metadata": {},
   "outputs": [],
   "source": [
    "final_preds = []\n",
    "for pred in predictions:\n",
    "    final_preds.append(pred['class_ids'][0])"
   ]
  },
  {
   "cell_type": "code",
   "execution_count": 92,
   "metadata": {},
   "outputs": [
    {
     "data": {
      "text/plain": [
       "[1,\n",
       " 0,\n",
       " 2,\n",
       " 1,\n",
       " 1,\n",
       " 0,\n",
       " 1,\n",
       " 2,\n",
       " 1,\n",
       " 1,\n",
       " 2,\n",
       " 0,\n",
       " 0,\n",
       " 0,\n",
       " 0,\n",
       " 1,\n",
       " 2,\n",
       " 1,\n",
       " 1,\n",
       " 2,\n",
       " 0,\n",
       " 2,\n",
       " 0,\n",
       " 2,\n",
       " 2,\n",
       " 2,\n",
       " 2,\n",
       " 2,\n",
       " 0,\n",
       " 0,\n",
       " 0,\n",
       " 0,\n",
       " 1,\n",
       " 0,\n",
       " 0,\n",
       " 2,\n",
       " 1,\n",
       " 0,\n",
       " 0,\n",
       " 0,\n",
       " 2,\n",
       " 1,\n",
       " 1,\n",
       " 0,\n",
       " 0]"
      ]
     },
     "execution_count": 92,
     "metadata": {},
     "output_type": "execute_result"
    }
   ],
   "source": [
    "final_preds"
   ]
  },
  {
   "cell_type": "markdown",
   "metadata": {},
   "source": [
    "**Now lets see how it performed using a Classification Report and a Confusion Matrix** "
   ]
  },
  {
   "cell_type": "code",
   "execution_count": 94,
   "metadata": {},
   "outputs": [
    {
     "name": "stdout",
     "output_type": "stream",
     "text": [
      "[[19  0  0]\n",
      " [ 0 13  0]\n",
      " [ 0  0 13]]\n",
      "              precision    recall  f1-score   support\n",
      "\n",
      "           0       1.00      1.00      1.00        19\n",
      "           1       1.00      1.00      1.00        13\n",
      "           2       1.00      1.00      1.00        13\n",
      "\n",
      "   micro avg       1.00      1.00      1.00        45\n",
      "   macro avg       1.00      1.00      1.00        45\n",
      "weighted avg       1.00      1.00      1.00        45\n",
      "\n"
     ]
    }
   ],
   "source": [
    "print(confusion_matrix(y_test,final_preds))\n",
    "print(classification_report(y_test,final_preds))"
   ]
  },
  {
   "cell_type": "markdown",
   "metadata": {},
   "source": [
    "### Iterating on the test to improve the scores"
   ]
  },
  {
   "cell_type": "markdown",
   "metadata": {},
   "source": [
    "Here is where you can go back to these earlier steps and play around with *batch_size* and *hidden_units* measures to get better results\n",
    "\n",
    "*Use larger batches and more hidden layers to tweak*  \n",
    "examples- try batch_size=30 and hidden_units=[10,30,20,12,10,20,22]\n",
    "\n",
    "\n",
    "**Original Functions**  \n",
    "Here change **batch_size**  \n",
    "input_func = tf.estimator.inputs.pandas_input_fn(x=X_train,y=y_train,batch_size=10,num_epochs=5,shuffle=True)  \n",
    "\n",
    "Here change **hidden_layers**  \n",
    "classifier = tf.estimator.DNNClassifier(hidden_units=[10,20,10], n_classes=3, feature_columns=feat_cols)"
   ]
  },
  {
   "cell_type": "code",
   "execution_count": null,
   "metadata": {},
   "outputs": [],
   "source": []
  }
 ],
 "metadata": {
  "kernelspec": {
   "display_name": "Python 3",
   "language": "python",
   "name": "python3"
  },
  "language_info": {
   "codemirror_mode": {
    "name": "ipython",
    "version": 3
   },
   "file_extension": ".py",
   "mimetype": "text/x-python",
   "name": "python",
   "nbconvert_exporter": "python",
   "pygments_lexer": "ipython3",
   "version": "3.7.3"
  }
 },
 "nbformat": 4,
 "nbformat_minor": 2
}
